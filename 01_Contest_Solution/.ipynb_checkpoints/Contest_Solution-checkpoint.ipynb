{
 "cells": [
  {
   "cell_type": "markdown",
   "metadata": {
    "id": "jI9XiljXKbyv"
   },
   "source": [
    "#  Коллекции Set и Dict"
   ]
  },
  {
   "cell_type": "markdown",
   "metadata": {
    "id": "vHJPypHHLM7X"
   },
   "source": [
    "Set(множество) - контейнер содержащий не поаторяющиеся элементы в произвольном порядке."
   ]
  },
  {
   "cell_type": "markdown",
   "metadata": {
    "id": "vqnmk4f4MGd1"
   },
   "source": [
    "Способы инициализации множества."
   ]
  },
  {
   "cell_type": "code",
   "execution_count": null,
   "metadata": {
    "id": "EUC1JG8PMN2t"
   },
   "outputs": [],
   "source": [
    "A = set()\n",
    "print(f'{type(A)} : {A}')\n",
    "\n",
    "A = {}\n",
    "print(f'{type(A)} : {A}')\n",
    "\n",
    "A = set('Hello')\n",
    "print(f'{type(A)} : {A}')\n",
    "\n",
    "A = set([1, 2, 3, 3, 4])\n",
    "print(f'{type(A)} : {A}')\n",
    "\n",
    "A = {'Hello', 'world', '!'}\n",
    "print(f'{type(A)} : {A}')\n",
    "\n",
    "A = {c for c in \"Hello world!\" if c not in \"bye\"}\n",
    "print(f'{type(A)} : {A}')"
   ]
  },
  {
   "cell_type": "markdown",
   "metadata": {
    "id": "aWDRqXK1NR2s"
   },
   "source": [
    "Операции над множествами."
   ]
  },
  {
   "cell_type": "code",
   "execution_count": null,
   "metadata": {
    "id": "KaZUjzRYNlO0"
   },
   "outputs": [],
   "source": [
    "A = set('set')\n",
    "B = set('list')\n",
    "C = set('dict')\n",
    "\n",
    "# Операция добавления\n",
    "A.add('o')\n",
    "print(A)\n",
    "print(len(A))\n",
    "\n",
    "# Объединение множеств\n",
    "print(A.union(B, C))\n",
    "\n",
    "# Пересечение множеств\n",
    "print(A.intersection(B, C))\n",
    "\n",
    "# Разница множеств(Все элементы А не принадлежащие В и С)\n",
    "print(A.difference(B, C))\n",
    "\n",
    "# Проверка входит ли множество А в В\n",
    "print(A.issubset(B))\n",
    "\n",
    "# Проверка входит ли множетсво B в А\n",
    "print(A.issuperset(B))"
   ]
  },
  {
   "cell_type": "markdown",
   "metadata": {
    "id": "06bZ60OQRbMi"
   },
   "source": [
    "Итерация по множеству."
   ]
  },
  {
   "cell_type": "code",
   "execution_count": null,
   "metadata": {
    "id": "EBXAPXGVRWlr"
   },
   "outputs": [],
   "source": [
    "for x in A:\n",
    "  print(x, end = ' ')\n",
    "\n",
    "print(A[1])"
   ]
  },
  {
   "cell_type": "markdown",
   "metadata": {
    "id": "uwHrmSGVSZJK"
   },
   "source": [
    "Задача № 2_2 (https://contest.yandex.ru/contest/43289/problems/2_2/)\n",
    "\n",
    "Подсчет количества уникальных элементов в строке."
   ]
  },
  {
   "cell_type": "code",
   "execution_count": null,
   "metadata": {
    "id": "6JIx8ThmKUZm"
   },
   "outputs": [],
   "source": [
    "def task2_2(s : str) -> int:\n",
    "  count = 0\n",
    "\n",
    "  # Your code\n",
    "\n",
    "  return count"
   ]
  },
  {
   "cell_type": "code",
   "execution_count": null,
   "metadata": {
    "id": "Mx8oO1KeTvB4"
   },
   "outputs": [],
   "source": [
    "assert task2_2('Hello') == 4, \"Неверно\"\n",
    "assert task2_2('Hello world!') == 9, \"Неверно\""
   ]
  },
  {
   "cell_type": "markdown",
   "metadata": {
    "id": "vOYpZIxaU9y6"
   },
   "source": [
    "Dict(словари) - неупорядоченные коллекции произвольных объектов с доступом по ключу. "
   ]
  },
  {
   "cell_type": "markdown",
   "metadata": {
    "id": "5Vrt3m7TVsI_"
   },
   "source": [
    "Способы инициализации словаря."
   ]
  },
  {
   "cell_type": "code",
   "execution_count": null,
   "metadata": {
    "colab": {
     "base_uri": "https://localhost:8080/"
    },
    "executionInfo": {
     "elapsed": 256,
     "status": "ok",
     "timestamp": 1669288626627,
     "user": {
      "displayName": "Fol4",
      "userId": "07767080146629070259"
     },
     "user_tz": -180
    },
    "id": "ykey68BhVqqe",
    "outputId": "9300f0ab-bd59-4fc5-8095-7dce56b3989b"
   },
   "outputs": [],
   "source": [
    "d = dict()\n",
    "print(f'{type(d)} : {d}')\n",
    "\n",
    "d = {}\n",
    "print(f'{type(d)} : {d}')\n",
    "\n",
    "d = {'dict': 1, 'dictionary': 2}\n",
    "print(f'{type(d)} : {d}')\n",
    "\n",
    "d = dict(short='dict', long='dictionary')\n",
    "print(f'{type(d)} : {d}')\n",
    "\n",
    "d = dict([(1, 1), (2, 4)])\n",
    "print(f'{type(d)} : {d}')\n",
    "\n",
    "d = dict.fromkeys(['a', 'b'])\n",
    "print(f'{type(d)} : {d}')\n",
    "\n",
    "d = {a: a ** 2 for a in range(7)}\n",
    "print(f'{type(d)} : {d}')"
   ]
  },
  {
   "cell_type": "markdown",
   "metadata": {
    "id": "YJf6W-LVXVod"
   },
   "source": [
    "Работа со словарем."
   ]
  },
  {
   "cell_type": "code",
   "execution_count": null,
   "metadata": {
    "colab": {
     "base_uri": "https://localhost:8080/"
    },
    "executionInfo": {
     "elapsed": 13,
     "status": "ok",
     "timestamp": 1669288817884,
     "user": {
      "displayName": "Fol4",
      "userId": "07767080146629070259"
     },
     "user_tz": -180
    },
    "id": "RrIwveVvW-re",
    "outputId": "9b0649b2-64e7-494e-9949-18c7bd38dfb9"
   },
   "outputs": [],
   "source": [
    "tel = {'jack': 4098, 'sape': 4139}\n",
    "tel['guido'] = 4127\n",
    "\n",
    "tel"
   ]
  },
  {
   "cell_type": "code",
   "execution_count": null,
   "metadata": {
    "colab": {
     "base_uri": "https://localhost:8080/"
    },
    "executionInfo": {
     "elapsed": 250,
     "status": "ok",
     "timestamp": 1669288832245,
     "user": {
      "displayName": "Fol4",
      "userId": "07767080146629070259"
     },
     "user_tz": -180
    },
    "id": "vlcMGELSXf01",
    "outputId": "cc469565-48b7-46c8-9ac2-dbec5af7ecda"
   },
   "outputs": [],
   "source": [
    "tel['jack']"
   ]
  },
  {
   "cell_type": "code",
   "execution_count": null,
   "metadata": {
    "colab": {
     "base_uri": "https://localhost:8080/"
    },
    "executionInfo": {
     "elapsed": 6,
     "status": "ok",
     "timestamp": 1669288852841,
     "user": {
      "displayName": "Fol4",
      "userId": "07767080146629070259"
     },
     "user_tz": -180
    },
    "id": "ULVcn-VlXjPV",
    "outputId": "6eb5955c-8fe5-41f9-a7a9-2c566a06a535"
   },
   "outputs": [],
   "source": [
    "del tel['sape']\n",
    "tel"
   ]
  },
  {
   "cell_type": "code",
   "execution_count": null,
   "metadata": {
    "colab": {
     "base_uri": "https://localhost:8080/"
    },
    "executionInfo": {
     "elapsed": 264,
     "status": "ok",
     "timestamp": 1669288871604,
     "user": {
      "displayName": "Fol4",
      "userId": "07767080146629070259"
     },
     "user_tz": -180
    },
    "id": "wix7j1YmWwZk",
    "outputId": "1d07b991-334f-4447-f977-e988021d89f4"
   },
   "outputs": [],
   "source": [
    "tel['irv'] = 4127\n",
    "tel"
   ]
  },
  {
   "cell_type": "code",
   "execution_count": null,
   "metadata": {
    "colab": {
     "base_uri": "https://localhost:8080/"
    },
    "executionInfo": {
     "elapsed": 9,
     "status": "ok",
     "timestamp": 1669288963123,
     "user": {
      "displayName": "Fol4",
      "userId": "07767080146629070259"
     },
     "user_tz": -180
    },
    "id": "rsQ9ZlRvXtgV",
    "outputId": "64c0d5b9-f357-4b34-a709-0f274d3794b1"
   },
   "outputs": [],
   "source": [
    "for x in tel:\n",
    "  print(x, end = \" \")"
   ]
  },
  {
   "cell_type": "code",
   "execution_count": null,
   "metadata": {
    "colab": {
     "base_uri": "https://localhost:8080/"
    },
    "executionInfo": {
     "elapsed": 6,
     "status": "ok",
     "timestamp": 1669289008522,
     "user": {
      "displayName": "Fol4",
      "userId": "07767080146629070259"
     },
     "user_tz": -180
    },
    "id": "tRYGTG-PXsND",
    "outputId": "251519e0-ac5a-426b-99f0-da28d16bc68b"
   },
   "outputs": [],
   "source": [
    "for k, v in tel.items():\n",
    "  print(f'{k} : {v}')"
   ]
  },
  {
   "cell_type": "code",
   "execution_count": null,
   "metadata": {
    "colab": {
     "base_uri": "https://localhost:8080/"
    },
    "executionInfo": {
     "elapsed": 10,
     "status": "ok",
     "timestamp": 1669289041089,
     "user": {
      "displayName": "Fol4",
      "userId": "07767080146629070259"
     },
     "user_tz": -180
    },
    "id": "lFp1UZdBYNm8",
    "outputId": "8df2e7cb-cded-401d-a074-ec193acab1cc"
   },
   "outputs": [],
   "source": [
    "for k in tel.keys():\n",
    "  print(k, end = \" \")"
   ]
  },
  {
   "cell_type": "markdown",
   "metadata": {
    "id": "r3hygKPEYaOW"
   },
   "source": [
    "Задача № 2_4(https://contest.yandex.ru/contest/43289/problems/2_4/)\n",
    "\n",
    "Подсчитать количество вхождений цифр в число. "
   ]
  },
  {
   "cell_type": "code",
   "execution_count": null,
   "metadata": {
    "id": "YSLIBcC6YVk7"
   },
   "outputs": [],
   "source": [
    "def task2_4(num : str) -> dict:\n",
    "  \n",
    "  # Your code\n",
    "\n",
    "  pass"
   ]
  },
  {
   "cell_type": "code",
   "execution_count": null,
   "metadata": {
    "id": "lSPriGuGak0w"
   },
   "outputs": [],
   "source": [
    "task2_4(\"846320453271\") # 1, 1, 2, 2, 2, 1, 1, 1, 1, 0"
   ]
  },
  {
   "cell_type": "markdown",
   "metadata": {
    "id": "8qwoQRLCaR-q"
   },
   "source": [
    "# Методы split() и join()"
   ]
  },
  {
   "cell_type": "markdown",
   "metadata": {
    "id": "uhXhZIP6bTt6"
   },
   "source": [
    "Метод split() принимает строку и возвращает список подстрок.\n",
    "\n",
    "```\n",
    "<string>.split(sep,maxsplit)\n",
    "```\n",
    "Здесь string – любая допустимая строка в Python, а sep – это разделитель, по которому вы хотите разделить исходную строку. maxsplit – аргумент, указывающий, сколько раз вы хотите разделить исходную строку string.\n",
    "\n",
    "По стандарту split() делит по пробелам всю строку.\n"
   ]
  },
  {
   "cell_type": "code",
   "execution_count": null,
   "metadata": {
    "colab": {
     "base_uri": "https://localhost:8080/"
    },
    "executionInfo": {
     "elapsed": 273,
     "status": "ok",
     "timestamp": 1669290811633,
     "user": {
      "displayName": "Fol4",
      "userId": "07767080146629070259"
     },
     "user_tz": -180
    },
    "id": "Sjs5YKmFabia",
    "outputId": "fae4f4a1-8b43-4981-ff17-9e4ab98a6e91"
   },
   "outputs": [],
   "source": [
    "my_string = \"Ben Yes   HAHAHAHA\"\n",
    "my_string.split()"
   ]
  },
  {
   "cell_type": "code",
   "execution_count": null,
   "metadata": {
    "colab": {
     "base_uri": "https://localhost:8080/"
    },
    "executionInfo": {
     "elapsed": 447,
     "status": "ok",
     "timestamp": 1669290846609,
     "user": {
      "displayName": "Fol4",
      "userId": "07767080146629070259"
     },
     "user_tz": -180
    },
    "id": "HN5rs_GcdzDP",
    "outputId": "8a21fb78-346f-48bb-fe67-52cce3347b14"
   },
   "outputs": [],
   "source": [
    "my_string = \"Some  test text   \"\n",
    "my_string.split(' ')"
   ]
  },
  {
   "cell_type": "code",
   "execution_count": null,
   "metadata": {
    "colab": {
     "base_uri": "https://localhost:8080/"
    },
    "executionInfo": {
     "elapsed": 298,
     "status": "ok",
     "timestamp": 1669291124039,
     "user": {
      "displayName": "Fol4",
      "userId": "07767080146629070259"
     },
     "user_tz": -180
    },
    "id": "hvxEhtgtdf9g",
    "outputId": "899fc433-d5f2-44d9-d375-06185fbc4a09"
   },
   "outputs": [],
   "source": [
    "my_string = \"Numpy,Matplotlib,Pytorch,Scipy,Pandas\"\n",
    "my_string.split(\",\")"
   ]
  },
  {
   "cell_type": "code",
   "execution_count": null,
   "metadata": {
    "colab": {
     "base_uri": "https://localhost:8080/"
    },
    "executionInfo": {
     "elapsed": 6,
     "status": "ok",
     "timestamp": 1669291124413,
     "user": {
      "displayName": "Fol4",
      "userId": "07767080146629070259"
     },
     "user_tz": -180
    },
    "id": "pbLLEQAVfEk_",
    "outputId": "3d2e4b00-4991-4451-a969-d7eaf873f797"
   },
   "outputs": [],
   "source": [
    "my_string.split(\",\", 2)"
   ]
  },
  {
   "cell_type": "markdown",
   "metadata": {
    "id": "FLCUcBtofWex"
   },
   "source": [
    "Метод join() формирует строки из подстрок.\n",
    "```\n",
    "<sep>.join(<iterable>)\n",
    "```\n",
    "Здесь iterable – любой итерируемый объект Python, содержащий подстроки. sep – это разделитель, с помощью которого вы хотите объединить подстроки.\n",
    "\n"
   ]
  },
  {
   "cell_type": "code",
   "execution_count": null,
   "metadata": {
    "colab": {
     "base_uri": "https://localhost:8080/"
    },
    "executionInfo": {
     "elapsed": 266,
     "status": "ok",
     "timestamp": 1669291127271,
     "user": {
      "displayName": "Fol4",
      "userId": "07767080146629070259"
     },
     "user_tz": -180
    },
    "id": "XV6uDNUseWVv",
    "outputId": "8d4c4d58-ed0d-4edb-d1ff-a412028a011a"
   },
   "outputs": [],
   "source": [
    "new_list = my_string.split(',')\n",
    "new_list"
   ]
  },
  {
   "cell_type": "code",
   "execution_count": null,
   "metadata": {
    "colab": {
     "base_uri": "https://localhost:8080/",
     "height": 35
    },
    "executionInfo": {
     "elapsed": 12,
     "status": "ok",
     "timestamp": 1669291144178,
     "user": {
      "displayName": "Fol4",
      "userId": "07767080146629070259"
     },
     "user_tz": -180
    },
    "id": "XTWvAHcAgQo9",
    "outputId": "69275e21-27e1-4c00-92ac-1e875fa26916"
   },
   "outputs": [],
   "source": [
    "','.join(new_list)"
   ]
  },
  {
   "cell_type": "markdown",
   "metadata": {
    "id": "EEcIs-q4gYbA"
   },
   "source": [
    "Задача № 2_7(https://contest.yandex.ru/contest/43289/problems/2_7/)\n",
    "\n",
    "Задана строка, состоящая из слов, разделенных одним или несколькими пробелами. Найдите первое самое длинное слово в строке и последнее самое короткое слово в строке и поменяйте их местами."
   ]
  },
  {
   "cell_type": "code",
   "execution_count": null,
   "metadata": {
    "id": "XpPKM63MgXDt"
   },
   "outputs": [],
   "source": [
    "def task2_7(s : str) -> str:\n",
    "\n",
    "  # Your code\n",
    "\n",
    "  pass"
   ]
  },
  {
   "cell_type": "code",
   "execution_count": null,
   "metadata": {
    "colab": {
     "base_uri": "https://localhost:8080/",
     "height": 169
    },
    "executionInfo": {
     "elapsed": 11,
     "status": "error",
     "timestamp": 1669291464547,
     "user": {
      "displayName": "Fol4",
      "userId": "07767080146629070259"
     },
     "user_tz": -180
    },
    "id": "eU1TJbm2hBRN",
    "outputId": "f538333d-c735-4c21-bd58-a2bc3ed30d7f"
   },
   "outputs": [],
   "source": [
    "assert task2_7(\"dsfsd dg sga sgs e r  a dhkuyks es rjgfd gjt s sh tjt jtf d\") == \"dsfsd dg sga sgs e r  a d es rjgfd gjt s sh tjt jtf dhkuyks\", \"Неверно\""
   ]
  },
  {
   "cell_type": "code",
   "execution_count": null,
   "metadata": {
    "id": "dwm7oavdhgjl"
   },
   "outputs": [],
   "source": []
  },
  {
   "cell_type": "markdown",
   "metadata": {
    "id": "zuRHhR00pVzC"
   },
   "source": [
    "# Рекурсия"
   ]
  },
  {
   "cell_type": "markdown",
   "metadata": {
    "id": "ZRzDz3d47Fbr"
   },
   "source": [
    "Задача № 2_8(https://contest.yandex.ru/contest/43289/problems/2_8/)\n",
    "\n",
    "\n",
    "Даны функции:\n",
    "\n",
    "F(x,y,z)=G(x−2,y//2)+G(y−1,z−2) при x≥2,y≥1,z≥2 иначе F(x,y,z)=x+y+z\n",
    "\n",
    "G(x,y)=F(x//3,y−1,∣x−y∣) при x≥0,y≥1 иначе G(x,y)=1\n",
    "\n",
    "По трём входным числам x,y,z посчитать знаение F(x,y,z)\n"
   ]
  },
  {
   "cell_type": "code",
   "execution_count": null,
   "metadata": {
    "executionInfo": {
     "elapsed": 413,
     "status": "ok",
     "timestamp": 1669315080311,
     "user": {
      "displayName": "Fol4",
      "userId": "07767080146629070259"
     },
     "user_tz": -180
    },
    "id": "gzxH6ECd7as8"
   },
   "outputs": [],
   "source": [
    "def task2_8(x : int, y : int, z : int) -> int:\n",
    "\n",
    "  # Your code\n",
    "\n",
    "  pass"
   ]
  },
  {
   "cell_type": "code",
   "execution_count": null,
   "metadata": {
    "id": "Rp5iohZU7rYK"
   },
   "outputs": [],
   "source": [
    "assert task2_8(1, 1, 1) == 3, \"Неверно\"\n",
    "assert task2_8(652 681 314) == 9053, \"Неверно\""
   ]
  },
  {
   "cell_type": "markdown",
   "metadata": {
    "id": "Cj3J_2BJhthl"
   },
   "source": [
    "# Библиотека Numpy"
   ]
  },
  {
   "cell_type": "code",
   "execution_count": null,
   "metadata": {
    "executionInfo": {
     "elapsed": 2,
     "status": "ok",
     "timestamp": 1669314613062,
     "user": {
      "displayName": "Fol4",
      "userId": "07767080146629070259"
     },
     "user_tz": -180
    },
    "id": "1MuLq-iDhxR1"
   },
   "outputs": [],
   "source": [
    "import numpy as np"
   ]
  },
  {
   "cell_type": "markdown",
   "metadata": {
    "id": "5Fa6Ybhxjchc"
   },
   "source": [
    " Создание одномерного массива."
   ]
  },
  {
   "cell_type": "code",
   "execution_count": null,
   "metadata": {
    "colab": {
     "base_uri": "https://localhost:8080/"
    },
    "executionInfo": {
     "elapsed": 264,
     "status": "ok",
     "timestamp": 1669291690307,
     "user": {
      "displayName": "Fol4",
      "userId": "07767080146629070259"
     },
     "user_tz": -180
    },
    "id": "iizs3XAhh-u7",
    "outputId": "50eaaafe-555d-499a-efa2-4c65a8a7d772"
   },
   "outputs": [],
   "source": [
    "a = [1, 2, 3]\n",
    "b = np.array(a, dtype='float64')\n",
    "print(type(b), type(a))"
   ]
  },
  {
   "cell_type": "markdown",
   "metadata": {
    "id": "fpwIzLUFjpac"
   },
   "source": [
    "Количественные характеристики."
   ]
  },
  {
   "cell_type": "code",
   "execution_count": null,
   "metadata": {
    "colab": {
     "base_uri": "https://localhost:8080/"
    },
    "executionInfo": {
     "elapsed": 300,
     "status": "ok",
     "timestamp": 1669291978484,
     "user": {
      "displayName": "Fol4",
      "userId": "07767080146629070259"
     },
     "user_tz": -180
    },
    "id": "RUopBZlRicW1",
    "outputId": "50cea3b1-9a38-444d-875c-b4ecb0384a95"
   },
   "outputs": [],
   "source": [
    "arr = np.array([[[1, 2, 3, 4],\n",
    "                [2, 3, 4, 3],\n",
    "                [1, 1, 1, 1]], \n",
    "                [[1, 2, 3, 4],\n",
    "                [2, 3, 4, 3],\n",
    "                [1, 1, 1, 1]]])\n",
    "\n",
    "print(\"len:\", len(arr), \"-- количество элементов по первой оси.\",\n",
    "      \"\\nsize:\", arr.size, \"-- всего элементов в матрице.\",\n",
    "      \"\\nndim:\", arr.ndim, \"-- размерность матрицы.\",\n",
    "      \"\\nshape:\", arr.shape, \"-- количество элементов по каждой оси.\")"
   ]
  },
  {
   "cell_type": "markdown",
   "metadata": {
    "id": "MuVoNe9srEJK"
   },
   "source": [
    "Индексация."
   ]
  },
  {
   "cell_type": "code",
   "execution_count": null,
   "metadata": {
    "colab": {
     "base_uri": "https://localhost:8080/"
    },
    "executionInfo": {
     "elapsed": 239,
     "status": "ok",
     "timestamp": 1669293630657,
     "user": {
      "displayName": "Fol4",
      "userId": "07767080146629070259"
     },
     "user_tz": -180
    },
    "id": "446BoDUCp1iz",
    "outputId": "3dbd685e-ea9a-45ec-f106-6724ff927bc1"
   },
   "outputs": [],
   "source": [
    "arr"
   ]
  },
  {
   "cell_type": "code",
   "execution_count": null,
   "metadata": {
    "colab": {
     "base_uri": "https://localhost:8080/"
    },
    "executionInfo": {
     "elapsed": 286,
     "status": "ok",
     "timestamp": 1669293610257,
     "user": {
      "displayName": "Fol4",
      "userId": "07767080146629070259"
     },
     "user_tz": -180
    },
    "id": "8WEsCs9mjitb",
    "outputId": "d5a91ad7-001c-451e-fce6-2169b4a3b7b1"
   },
   "outputs": [],
   "source": [
    "arr[0]"
   ]
  },
  {
   "cell_type": "code",
   "execution_count": null,
   "metadata": {
    "colab": {
     "base_uri": "https://localhost:8080/"
    },
    "executionInfo": {
     "elapsed": 5,
     "status": "ok",
     "timestamp": 1669293614937,
     "user": {
      "displayName": "Fol4",
      "userId": "07767080146629070259"
     },
     "user_tz": -180
    },
    "id": "mjIz0ojvpxHj",
    "outputId": "87867963-4119-4103-b65e-d0c636b6bcee"
   },
   "outputs": [],
   "source": [
    "arr[0, 1]"
   ]
  },
  {
   "cell_type": "code",
   "execution_count": null,
   "metadata": {
    "colab": {
     "base_uri": "https://localhost:8080/"
    },
    "executionInfo": {
     "elapsed": 5,
     "status": "ok",
     "timestamp": 1669293636822,
     "user": {
      "displayName": "Fol4",
      "userId": "07767080146629070259"
     },
     "user_tz": -180
    },
    "id": "WnQGXHZ9pyVa",
    "outputId": "f6f2a2fe-7d9a-4227-9924-30c5a7bfc11e"
   },
   "outputs": [],
   "source": [
    "arr[0, 1, -1]"
   ]
  },
  {
   "cell_type": "markdown",
   "metadata": {
    "id": "ifRp7nBJt55x"
   },
   "source": [
    "\n",
    "\n",
    "---\n",
    "\n",
    "\n",
    "Типы данных в np.array\n",
    "\n",
    "Целые знаковые\n",
    "* np.int8\n",
    "* np.int16\n",
    "* np.int32\n",
    "* np.int64\n",
    "\n",
    "Целые беззнаковые\n",
    "* np.uint8\n",
    "* np.uint16\n",
    "* np.uint32\n",
    "* np.uint64\n",
    "\n",
    "С плавающей точкой\n",
    "* np.float16\n",
    "* np.float32\n",
    "* np.float64\n",
    "\n",
    "\n",
    "---\n",
    "\n"
   ]
  },
  {
   "cell_type": "markdown",
   "metadata": {
    "id": "0m1ays3auHES"
   },
   "source": [
    "Создание массивов"
   ]
  },
  {
   "cell_type": "markdown",
   "metadata": {
    "id": "xBL8ZH2svOvm"
   },
   "source": [
    "1. Диапазон значений"
   ]
  },
  {
   "cell_type": "code",
   "execution_count": null,
   "metadata": {
    "colab": {
     "base_uri": "https://localhost:8080/"
    },
    "executionInfo": {
     "elapsed": 236,
     "status": "ok",
     "timestamp": 1669295171324,
     "user": {
      "displayName": "Fol4",
      "userId": "07767080146629070259"
     },
     "user_tz": -180
    },
    "id": "e8aQeolJuCno",
    "outputId": "bdd03dbe-481a-46cf-dfe7-48e21a4b0f93"
   },
   "outputs": [],
   "source": [
    "np.arange(2, 10, 3, dtype=np.float32)"
   ]
  },
  {
   "cell_type": "code",
   "execution_count": null,
   "metadata": {
    "colab": {
     "base_uri": "https://localhost:8080/"
    },
    "executionInfo": {
     "elapsed": 258,
     "status": "ok",
     "timestamp": 1669295184576,
     "user": {
      "displayName": "Fol4",
      "userId": "07767080146629070259"
     },
     "user_tz": -180
    },
    "id": "C8r-P9K5vuPN",
    "outputId": "4aff200b-2e52-4b4f-946d-5a5acd514431"
   },
   "outputs": [],
   "source": [
    "np.linspace(1,10,10000)"
   ]
  },
  {
   "cell_type": "markdown",
   "metadata": {
    "id": "1Jq1GC3Yvzt-"
   },
   "source": [
    "2. Заполнение массивов"
   ]
  },
  {
   "cell_type": "code",
   "execution_count": null,
   "metadata": {
    "colab": {
     "base_uri": "https://localhost:8080/"
    },
    "executionInfo": {
     "elapsed": 296,
     "status": "ok",
     "timestamp": 1669295458927,
     "user": {
      "displayName": "Fol4",
      "userId": "07767080146629070259"
     },
     "user_tz": -180
    },
    "id": "ZjV5QSoWvxb1",
    "outputId": "fe7a5d64-2790-4d61-99f9-14f70d693b0a"
   },
   "outputs": [],
   "source": [
    "np.zeros((3,1),dtype=np.float16)"
   ]
  },
  {
   "cell_type": "code",
   "execution_count": null,
   "metadata": {
    "colab": {
     "base_uri": "https://localhost:8080/"
    },
    "executionInfo": {
     "elapsed": 332,
     "status": "ok",
     "timestamp": 1669295468998,
     "user": {
      "displayName": "Fol4",
      "userId": "07767080146629070259"
     },
     "user_tz": -180
    },
    "id": "nNpDfBSaw0aE",
    "outputId": "6b1d0510-16ce-4a80-800d-f94d1bc5d73a"
   },
   "outputs": [],
   "source": [
    "np.ones((5,3),dtype=np.float16)"
   ]
  },
  {
   "cell_type": "code",
   "execution_count": null,
   "metadata": {
    "colab": {
     "base_uri": "https://localhost:8080/"
    },
    "executionInfo": {
     "elapsed": 5,
     "status": "ok",
     "timestamp": 1669295724973,
     "user": {
      "displayName": "Fol4",
      "userId": "07767080146629070259"
     },
     "user_tz": -180
    },
    "id": "IQOPhakrxiHM",
    "outputId": "c28e30cc-d148-4a49-fdf4-72ead7e95b6d"
   },
   "outputs": [],
   "source": [
    "a = np.full((3, 3), 3, dtype=np.float64)\n",
    "a"
   ]
  },
  {
   "cell_type": "code",
   "execution_count": null,
   "metadata": {
    "colab": {
     "base_uri": "https://localhost:8080/"
    },
    "executionInfo": {
     "elapsed": 328,
     "status": "ok",
     "timestamp": 1669295733967,
     "user": {
      "displayName": "Fol4",
      "userId": "07767080146629070259"
     },
     "user_tz": -180
    },
    "id": "QaMVjJDjxZi0",
    "outputId": "a8b2e9e1-f921-4ec7-b65a-bb3fe6f4f1d2"
   },
   "outputs": [],
   "source": [
    "np.zeros_like(a)"
   ]
  },
  {
   "cell_type": "code",
   "execution_count": null,
   "metadata": {
    "colab": {
     "base_uri": "https://localhost:8080/"
    },
    "executionInfo": {
     "elapsed": 6,
     "status": "ok",
     "timestamp": 1669295742434,
     "user": {
      "displayName": "Fol4",
      "userId": "07767080146629070259"
     },
     "user_tz": -180
    },
    "id": "Uh-t67miw23s",
    "outputId": "10865895-e228-4c17-da1c-17230a556cce"
   },
   "outputs": [],
   "source": [
    "np.random.random((4,2,3))"
   ]
  },
  {
   "cell_type": "markdown",
   "metadata": {
    "id": "Sveg8zwKrCSL"
   },
   "source": [
    "Операции над массивами."
   ]
  },
  {
   "cell_type": "markdown",
   "metadata": {
    "id": "wXvolc-crjnK"
   },
   "source": [
    "1. Арифметические операции."
   ]
  },
  {
   "cell_type": "code",
   "execution_count": null,
   "metadata": {
    "id": "tZJrExAPpz5U"
   },
   "outputs": [],
   "source": [
    "a = np.array([1,2,3])\n",
    "b = np.array([4,5,6])"
   ]
  },
  {
   "cell_type": "code",
   "execution_count": null,
   "metadata": {
    "colab": {
     "base_uri": "https://localhost:8080/"
    },
    "executionInfo": {
     "elapsed": 6,
     "status": "ok",
     "timestamp": 1669295921113,
     "user": {
      "displayName": "Fol4",
      "userId": "07767080146629070259"
     },
     "user_tz": -180
    },
    "id": "0R9P0B58q74q",
    "outputId": "4d09b0bd-00ba-4050-b633-c28186acddbf"
   },
   "outputs": [],
   "source": [
    "a+b"
   ]
  },
  {
   "cell_type": "code",
   "execution_count": null,
   "metadata": {
    "colab": {
     "base_uri": "https://localhost:8080/"
    },
    "executionInfo": {
     "elapsed": 4,
     "status": "ok",
     "timestamp": 1669295921113,
     "user": {
      "displayName": "Fol4",
      "userId": "07767080146629070259"
     },
     "user_tz": -180
    },
    "id": "h0ZcstjBrXB5",
    "outputId": "97f4a909-0aae-4eb2-8a0a-88bfb7e7f744"
   },
   "outputs": [],
   "source": [
    "a-b"
   ]
  },
  {
   "cell_type": "code",
   "execution_count": null,
   "metadata": {
    "colab": {
     "base_uri": "https://localhost:8080/"
    },
    "executionInfo": {
     "elapsed": 5,
     "status": "ok",
     "timestamp": 1669295921362,
     "user": {
      "displayName": "Fol4",
      "userId": "07767080146629070259"
     },
     "user_tz": -180
    },
    "id": "5Xzn_g1frYng",
    "outputId": "071ad1e7-c7c9-4b1e-e7ac-06ef4332f764"
   },
   "outputs": [],
   "source": [
    "a*b"
   ]
  },
  {
   "cell_type": "code",
   "execution_count": null,
   "metadata": {
    "colab": {
     "base_uri": "https://localhost:8080/"
    },
    "executionInfo": {
     "elapsed": 5,
     "status": "ok",
     "timestamp": 1669295921363,
     "user": {
      "displayName": "Fol4",
      "userId": "07767080146629070259"
     },
     "user_tz": -180
    },
    "id": "8qD_NlnDrZYK",
    "outputId": "54e62069-b75a-40d6-c978-0be6459bd83e"
   },
   "outputs": [],
   "source": [
    "a**b"
   ]
  },
  {
   "cell_type": "markdown",
   "metadata": {
    "id": "_BcKvyC9rwFp"
   },
   "source": [
    "2. Встроенные функции в  numpy"
   ]
  },
  {
   "cell_type": "code",
   "execution_count": null,
   "metadata": {
    "colab": {
     "base_uri": "https://localhost:8080/"
    },
    "executionInfo": {
     "elapsed": 2,
     "status": "ok",
     "timestamp": 1669295921614,
     "user": {
      "displayName": "Fol4",
      "userId": "07767080146629070259"
     },
     "user_tz": -180
    },
    "id": "sNMWQ5pdr31p",
    "outputId": "f5f3fcad-14e5-47dc-af89-17288c95cfd4"
   },
   "outputs": [],
   "source": [
    "np.sum(a)"
   ]
  },
  {
   "cell_type": "code",
   "execution_count": null,
   "metadata": {
    "colab": {
     "base_uri": "https://localhost:8080/"
    },
    "executionInfo": {
     "elapsed": 4,
     "status": "ok",
     "timestamp": 1669295922199,
     "user": {
      "displayName": "Fol4",
      "userId": "07767080146629070259"
     },
     "user_tz": -180
    },
    "id": "QE3dDGsnsQO3",
    "outputId": "6a317e65-175f-4093-bf91-f48d5289ab5f"
   },
   "outputs": [],
   "source": [
    "np.mean(b)"
   ]
  },
  {
   "cell_type": "code",
   "execution_count": null,
   "metadata": {
    "colab": {
     "base_uri": "https://localhost:8080/"
    },
    "executionInfo": {
     "elapsed": 3,
     "status": "ok",
     "timestamp": 1669295922793,
     "user": {
      "displayName": "Fol4",
      "userId": "07767080146629070259"
     },
     "user_tz": -180
    },
    "id": "K6lD5vDasRZI",
    "outputId": "6011a1b2-5823-4cd6-e9ad-dd6045414a2a"
   },
   "outputs": [],
   "source": [
    "np.log(a)"
   ]
  },
  {
   "cell_type": "code",
   "execution_count": null,
   "metadata": {
    "colab": {
     "base_uri": "https://localhost:8080/"
    },
    "executionInfo": {
     "elapsed": 5,
     "status": "ok",
     "timestamp": 1669295923354,
     "user": {
      "displayName": "Fol4",
      "userId": "07767080146629070259"
     },
     "user_tz": -180
    },
    "id": "beGR39A9sV7Q",
    "outputId": "3fbfebb5-3ee3-430e-f2c0-a20d7c400c0b"
   },
   "outputs": [],
   "source": [
    "np.sin(b)"
   ]
  },
  {
   "cell_type": "markdown",
   "metadata": {
    "id": "o-dJrGr1siVa"
   },
   "source": [
    "3. Логические операции"
   ]
  },
  {
   "cell_type": "code",
   "execution_count": null,
   "metadata": {
    "colab": {
     "base_uri": "https://localhost:8080/"
    },
    "executionInfo": {
     "elapsed": 6,
     "status": "ok",
     "timestamp": 1669295925921,
     "user": {
      "displayName": "Fol4",
      "userId": "07767080146629070259"
     },
     "user_tz": -180
    },
    "id": "bcRDOPISsXVH",
    "outputId": "0ffb62c3-b24c-45c9-92a5-510132b8e58b"
   },
   "outputs": [],
   "source": [
    "a > b"
   ]
  },
  {
   "cell_type": "code",
   "execution_count": null,
   "metadata": {
    "colab": {
     "base_uri": "https://localhost:8080/"
    },
    "executionInfo": {
     "elapsed": 5,
     "status": "ok",
     "timestamp": 1669295925922,
     "user": {
      "displayName": "Fol4",
      "userId": "07767080146629070259"
     },
     "user_tz": -180
    },
    "id": "aBFHoy2csoHv",
    "outputId": "a2b89c17-ae13-4ca6-983f-3cfbdc12ec27"
   },
   "outputs": [],
   "source": [
    "a == b"
   ]
  },
  {
   "cell_type": "code",
   "execution_count": null,
   "metadata": {
    "colab": {
     "base_uri": "https://localhost:8080/"
    },
    "executionInfo": {
     "elapsed": 3,
     "status": "ok",
     "timestamp": 1669295926168,
     "user": {
      "displayName": "Fol4",
      "userId": "07767080146629070259"
     },
     "user_tz": -180
    },
    "id": "1zKSOdUtspEf",
    "outputId": "9b957f98-4c77-4137-a110-8d868b4a4d1d"
   },
   "outputs": [],
   "source": [
    "b > a"
   ]
  },
  {
   "cell_type": "markdown",
   "metadata": {
    "id": "s9TaaWanyn_F"
   },
   "source": [
    "4. Объединение массивов"
   ]
  },
  {
   "cell_type": "code",
   "execution_count": null,
   "metadata": {
    "colab": {
     "base_uri": "https://localhost:8080/"
    },
    "executionInfo": {
     "elapsed": 256,
     "status": "ok",
     "timestamp": 1669295946244,
     "user": {
      "displayName": "Fol4",
      "userId": "07767080146629070259"
     },
     "user_tz": -180
    },
    "id": "gFIxr-SgxgJF",
    "outputId": "528b7570-93b5-4f11-9e87-03861ba8fd80"
   },
   "outputs": [],
   "source": [
    "np.hstack([a, b])"
   ]
  },
  {
   "cell_type": "code",
   "execution_count": null,
   "metadata": {
    "colab": {
     "base_uri": "https://localhost:8080/"
    },
    "executionInfo": {
     "elapsed": 3,
     "status": "ok",
     "timestamp": 1669295962579,
     "user": {
      "displayName": "Fol4",
      "userId": "07767080146629070259"
     },
     "user_tz": -180
    },
    "id": "UsW5CMdtyg0D",
    "outputId": "dffc2f64-1896-4f5e-bbeb-78f5d3b62086"
   },
   "outputs": [],
   "source": [
    "np.vstack([a, b])"
   ]
  },
  {
   "cell_type": "markdown",
   "metadata": {
    "id": "DAPXrZpHzE5n"
   },
   "source": [
    "5. Разъединение массивов"
   ]
  },
  {
   "cell_type": "code",
   "execution_count": null,
   "metadata": {
    "colab": {
     "base_uri": "https://localhost:8080/"
    },
    "executionInfo": {
     "elapsed": 3,
     "status": "ok",
     "timestamp": 1669296094519,
     "user": {
      "displayName": "Fol4",
      "userId": "07767080146629070259"
     },
     "user_tz": -180
    },
    "id": "J6WA4FO6yvfL",
    "outputId": "931f6640-28f5-40be-91ee-f48025d8c5e5"
   },
   "outputs": [],
   "source": [
    "a = np.array([1, 5, 6, 10, -2, 0, 18])\n",
    "x1, x2, x3, x4 = np.hsplit(a, [3, 5, 6])\n",
    "print(x1)\n",
    "print(x2)\n",
    "print(x3)\n",
    "print(x4)"
   ]
  },
  {
   "cell_type": "markdown",
   "metadata": {
    "id": "rTdphKbR2a9D"
   },
   "source": [
    "Срезы"
   ]
  },
  {
   "cell_type": "markdown",
   "metadata": {
    "id": "onn9c8Vr5paY"
   },
   "source": [
    "1. Одномерный массив"
   ]
  },
  {
   "cell_type": "code",
   "execution_count": null,
   "metadata": {
    "colab": {
     "base_uri": "https://localhost:8080/"
    },
    "executionInfo": {
     "elapsed": 11,
     "status": "ok",
     "timestamp": 1669297307421,
     "user": {
      "displayName": "Fol4",
      "userId": "07767080146629070259"
     },
     "user_tz": -180
    },
    "id": "2I8I7Dht33Y5",
    "outputId": "743e75f9-2b0e-4c89-b5bb-a9483c18276d"
   },
   "outputs": [],
   "source": [
    "a"
   ]
  },
  {
   "cell_type": "code",
   "execution_count": null,
   "metadata": {
    "colab": {
     "base_uri": "https://localhost:8080/"
    },
    "executionInfo": {
     "elapsed": 6,
     "status": "ok",
     "timestamp": 1669297257398,
     "user": {
      "displayName": "Fol4",
      "userId": "07767080146629070259"
     },
     "user_tz": -180
    },
    "id": "2IiGwOjx3qQ6",
    "outputId": "55e97511-c900-4a00-9085-01771ba46ebf"
   },
   "outputs": [],
   "source": [
    "a[2:5]"
   ]
  },
  {
   "cell_type": "code",
   "execution_count": null,
   "metadata": {
    "colab": {
     "base_uri": "https://localhost:8080/"
    },
    "executionInfo": {
     "elapsed": 281,
     "status": "ok",
     "timestamp": 1669297270018,
     "user": {
      "displayName": "Fol4",
      "userId": "07767080146629070259"
     },
     "user_tz": -180
    },
    "id": "8H-UcvNY3tdJ",
    "outputId": "638a6572-b245-4793-aa31-5c6f679e3613"
   },
   "outputs": [],
   "source": [
    "a[0:4:2]"
   ]
  },
  {
   "cell_type": "code",
   "execution_count": null,
   "metadata": {
    "colab": {
     "base_uri": "https://localhost:8080/"
    },
    "executionInfo": {
     "elapsed": 2,
     "status": "ok",
     "timestamp": 1669297298447,
     "user": {
      "displayName": "Fol4",
      "userId": "07767080146629070259"
     },
     "user_tz": -180
    },
    "id": "66phW0Gw3yZK",
    "outputId": "fc310fe3-8762-4e4a-a286-784c1df5d2cf"
   },
   "outputs": [],
   "source": [
    "a[1:6:3] = 0\n",
    "a"
   ]
  },
  {
   "cell_type": "code",
   "execution_count": null,
   "metadata": {
    "colab": {
     "base_uri": "https://localhost:8080/"
    },
    "executionInfo": {
     "elapsed": 268,
     "status": "ok",
     "timestamp": 1669297271781,
     "user": {
      "displayName": "Fol4",
      "userId": "07767080146629070259"
     },
     "user_tz": -180
    },
    "id": "A55JbN-m3eEn",
    "outputId": "8fe549d0-f77f-4dd4-ca15-644713bd24f2"
   },
   "outputs": [],
   "source": [
    "a[::-1]"
   ]
  },
  {
   "cell_type": "code",
   "execution_count": null,
   "metadata": {
    "colab": {
     "base_uri": "https://localhost:8080/"
    },
    "executionInfo": {
     "elapsed": 290,
     "status": "ok",
     "timestamp": 1669297327481,
     "user": {
      "displayName": "Fol4",
      "userId": "07767080146629070259"
     },
     "user_tz": -180
    },
    "id": "JJEyL66A3iH3",
    "outputId": "a74ebdfd-b163-45de-bc97-39128df3bbe4"
   },
   "outputs": [],
   "source": [
    "b = a[0:6]\n",
    "b[1] = -1000\n",
    "print(a)"
   ]
  },
  {
   "cell_type": "code",
   "execution_count": null,
   "metadata": {
    "colab": {
     "base_uri": "https://localhost:8080/"
    },
    "executionInfo": {
     "elapsed": 238,
     "status": "ok",
     "timestamp": 1669297339868,
     "user": {
      "displayName": "Fol4",
      "userId": "07767080146629070259"
     },
     "user_tz": -180
    },
    "id": "ZH4vthVn38oH",
    "outputId": "36636a61-c630-4a7e-be2f-16f9c9f04ddf"
   },
   "outputs": [],
   "source": [
    "b = a.copy()\n",
    "b[2] = -4\n",
    "print(b)\n",
    "print(a)"
   ]
  },
  {
   "cell_type": "markdown",
   "metadata": {
    "id": "rD2zZt5W5uRR"
   },
   "source": [
    "2. Двумерный массив"
   ]
  },
  {
   "cell_type": "code",
   "execution_count": null,
   "metadata": {
    "colab": {
     "base_uri": "https://localhost:8080/"
    },
    "executionInfo": {
     "elapsed": 7,
     "status": "ok",
     "timestamp": 1669297840314,
     "user": {
      "displayName": "Fol4",
      "userId": "07767080146629070259"
     },
     "user_tz": -180
    },
    "id": "kvSy0Mhe3_oO",
    "outputId": "312666fc-8347-4190-b10e-8e71d2427840"
   },
   "outputs": [],
   "source": [
    "x = np.arange(24.0).reshape(4, -1)\n",
    "x"
   ]
  },
  {
   "cell_type": "code",
   "execution_count": null,
   "metadata": {
    "colab": {
     "base_uri": "https://localhost:8080/"
    },
    "executionInfo": {
     "elapsed": 8,
     "status": "ok",
     "timestamp": 1669297842104,
     "user": {
      "displayName": "Fol4",
      "userId": "07767080146629070259"
     },
     "user_tz": -180
    },
    "id": "HMSKhBRW5nht",
    "outputId": "c81adee1-8cbc-474a-dbd7-780432418b4b"
   },
   "outputs": [],
   "source": [
    "x[::-1,::-1]"
   ]
  },
  {
   "cell_type": "code",
   "execution_count": null,
   "metadata": {
    "colab": {
     "base_uri": "https://localhost:8080/"
    },
    "executionInfo": {
     "elapsed": 3,
     "status": "ok",
     "timestamp": 1669297904946,
     "user": {
      "displayName": "Fol4",
      "userId": "07767080146629070259"
     },
     "user_tz": -180
    },
    "id": "bKIGxws352hG",
    "outputId": "41d69367-7c9f-4398-e96f-ddd1b1687287"
   },
   "outputs": [],
   "source": [
    "x[2:4, 1:4]"
   ]
  },
  {
   "cell_type": "markdown",
   "metadata": {
    "id": "MJTBxgEs6ZVe"
   },
   "source": [
    "Задача № 3_1(https://contest.yandex.ru/contest/43289/problems/3_1/)\n",
    "\n",
    "Создать массив размера n x m, в котором граница толщиной 1 будет заполнена числами 1, а всё остальное - 0"
   ]
  },
  {
   "cell_type": "code",
   "execution_count": null,
   "metadata": {
    "id": "itPc7A-G6nam"
   },
   "outputs": [],
   "source": [
    "def task3_1(n : int, m : int) -> np.array:\n",
    "   \n",
    "   #  Your code\n",
    "\n",
    "   pass"
   ]
  },
  {
   "cell_type": "code",
   "execution_count": null,
   "metadata": {
    "id": "Cr7p3JrA7DK-"
   },
   "outputs": [],
   "source": [
    "task3_1(5, 6)"
   ]
  },
  {
   "cell_type": "markdown",
   "metadata": {
    "id": "5S89CfFG6Le-"
   },
   "source": [
    "Маски"
   ]
  },
  {
   "cell_type": "code",
   "execution_count": null,
   "metadata": {
    "colab": {
     "base_uri": "https://localhost:8080/"
    },
    "executionInfo": {
     "elapsed": 306,
     "status": "ok",
     "timestamp": 1669298214129,
     "user": {
      "displayName": "Fol4",
      "userId": "07767080146629070259"
     },
     "user_tz": -180
    },
    "id": "QYzlaLxG6Jmd",
    "outputId": "7ed8fc58-1f80-4ed9-c6a5-36ac6bc82e64"
   },
   "outputs": [],
   "source": [
    "a = np.arange(20)\n",
    "mask = a % 3 == 0\n",
    "print(mask)\n",
    "print(mask * a)\n",
    "print(a[mask])\n",
    "print(a[a % 3 == 0])"
   ]
  },
  {
   "cell_type": "code",
   "execution_count": null,
   "metadata": {
    "colab": {
     "base_uri": "https://localhost:8080/"
    },
    "executionInfo": {
     "elapsed": 10,
     "status": "ok",
     "timestamp": 1669298235552,
     "user": {
      "displayName": "Fol4",
      "userId": "07767080146629070259"
     },
     "user_tz": -180
    },
    "id": "NRYGtfvH6RUN",
    "outputId": "6395af98-d535-4edc-aba5-6da0307fb1be"
   },
   "outputs": [],
   "source": [
    "a[a > 3]"
   ]
  },
  {
   "cell_type": "code",
   "execution_count": null,
   "metadata": {
    "colab": {
     "base_uri": "https://localhost:8080/"
    },
    "executionInfo": {
     "elapsed": 6,
     "status": "ok",
     "timestamp": 1669298647853,
     "user": {
      "displayName": "Fol4",
      "userId": "07767080146629070259"
     },
     "user_tz": -180
    },
    "id": "ERcu3yTm7aZd",
    "outputId": "bbd4b8c8-4765-4585-eec6-ec0e6973ba3a"
   },
   "outputs": [],
   "source": [
    "a[np.logical_and(a > 5, a < 10)] = 0\n",
    "a"
   ]
  },
  {
   "cell_type": "code",
   "execution_count": null,
   "metadata": {
    "colab": {
     "base_uri": "https://localhost:8080/"
    },
    "executionInfo": {
     "elapsed": 12,
     "status": "ok",
     "timestamp": 1669298690156,
     "user": {
      "displayName": "Fol4",
      "userId": "07767080146629070259"
     },
     "user_tz": -180
    },
    "id": "azLQ0Cma9HnF",
    "outputId": "91230b4b-36d8-4bc3-e60f-b71cac96d9e0"
   },
   "outputs": [],
   "source": [
    "a = np.arange(20)\n",
    "a"
   ]
  },
  {
   "cell_type": "code",
   "execution_count": null,
   "metadata": {
    "colab": {
     "base_uri": "https://localhost:8080/"
    },
    "executionInfo": {
     "elapsed": 11,
     "status": "ok",
     "timestamp": 1669298690158,
     "user": {
      "displayName": "Fol4",
      "userId": "07767080146629070259"
     },
     "user_tz": -180
    },
    "id": "sUhK6Fbn7io8",
    "outputId": "54503799-7951-402e-e068-fae50df69e11"
   },
   "outputs": [],
   "source": [
    "np.where(np.logical_and(a > 5, a < 10), a + 5, a - 5)"
   ]
  },
  {
   "cell_type": "markdown",
   "metadata": {
    "id": "64ij4tG49Ne1"
   },
   "source": [
    " Задача № 3_2(https://contest.yandex.ru/contest/43289/problems/3_2/)\n",
    "\n",
    "Заменить элементы двумерной матрицы лежащие в диапазоне [a, b] на нули. Циклы можно использовать только для ввода/вывода данных"
   ]
  },
  {
   "cell_type": "code",
   "execution_count": null,
   "metadata": {
    "id": "ueQpMRvk9Fab"
   },
   "outputs": [],
   "source": [
    "def task3_2(arr : np.array, a : int, b : int) -> np.array:\n",
    "   \n",
    "   # Your code\n",
    "\n",
    "   pass"
   ]
  },
  {
   "cell_type": "code",
   "execution_count": null,
   "metadata": {
    "id": "WFHUeHvb9yej"
   },
   "outputs": [],
   "source": [
    "task3_2(np.array([[1, 2, 3],[4, 5, 6],[7, 8, 9]]), 4, 7)"
   ]
  },
  {
   "cell_type": "markdown",
   "metadata": {
    "id": "-BEgf1op-ffN"
   },
   "source": [
    "Параметр axis"
   ]
  },
  {
   "cell_type": "code",
   "execution_count": null,
   "metadata": {
    "id": "n9XeJZAKAmW3"
   },
   "outputs": [],
   "source": [
    "x = np.arange(24.0).reshape(2, 3, 4)"
   ]
  },
  {
   "cell_type": "code",
   "execution_count": null,
   "metadata": {
    "colab": {
     "base_uri": "https://localhost:8080/"
    },
    "executionInfo": {
     "elapsed": 4,
     "status": "ok",
     "timestamp": 1669299598500,
     "user": {
      "displayName": "Fol4",
      "userId": "07767080146629070259"
     },
     "user_tz": -180
    },
    "id": "BieVcEulAmW4",
    "outputId": "fe8fa53f-70a9-43ed-9201-a1f7e4a9890f"
   },
   "outputs": [],
   "source": [
    "x"
   ]
  },
  {
   "cell_type": "code",
   "execution_count": null,
   "metadata": {
    "colab": {
     "base_uri": "https://localhost:8080/"
    },
    "executionInfo": {
     "elapsed": 7,
     "status": "ok",
     "timestamp": 1669299886256,
     "user": {
      "displayName": "Fol4",
      "userId": "07767080146629070259"
     },
     "user_tz": -180
    },
    "id": "zZuhlSW4AmW5",
    "outputId": "55d8c041-c9aa-48b0-df23-f23528f46e60"
   },
   "outputs": [],
   "source": [
    "print(\"Axis = 0\")\n",
    "\n",
    "for i in range(x.shape[0]):\n",
    "  print(x[i, :, :])\n",
    "\n",
    "print()\n",
    "print(np.sum(x, axis=0))\n",
    "\n",
    "print()\n",
    "\n",
    "print(\"Axis = 1\")\n",
    "\n",
    "for i in range(x.shape[1]):\n",
    "  print(x[:, i, :])\n",
    "\n",
    "print()\n",
    "print(np.sum(x, axis=1))\n",
    "\n",
    "print()\n",
    "\n",
    "print(\"Axis = 2\")\n",
    "\n",
    "for i in range(x.shape[2]):\n",
    "\n",
    "  print(x[:, :, i])\n",
    "\n",
    "print()\n",
    "print(np.sum(x, axis=2))"
   ]
  },
  {
   "cell_type": "code",
   "execution_count": null,
   "metadata": {
    "colab": {
     "base_uri": "https://localhost:8080/"
    },
    "executionInfo": {
     "elapsed": 379,
     "status": "ok",
     "timestamp": 1669300291349,
     "user": {
      "displayName": "Fol4",
      "userId": "07767080146629070259"
     },
     "user_tz": -180
    },
    "id": "aW0XJNTr1h8x",
    "outputId": "eb836d05-6100-4ef6-f583-2b1c08f9c7d6"
   },
   "outputs": [],
   "source": [
    "np.hsplit(x, 3)"
   ]
  },
  {
   "cell_type": "markdown",
   "metadata": {
    "id": "Wv90uAKuDamx"
   },
   "source": [
    "Задача № 3_3(https://contest.yandex.ru/contest/43289/problems/3_3/)\n",
    "\n",
    "Магическим квадратом порядка n называется квадратная матрица размером n x n, состоящая из n^2 различных чисел так, что суммы по каждому столбцу, каждой строке и каждой из двух диагоналей равны между собой. Проверить, является ли заданная квадратная матрица магическим квадратом. Циклы можно использовать только для ввода/вывода данных."
   ]
  },
  {
   "cell_type": "code",
   "execution_count": null,
   "metadata": {
    "id": "5lWEaaUZ-hsx"
   },
   "outputs": [],
   "source": [
    "def task3_3(arr : np.array) -> str:\n",
    "\n",
    "  # Your code\n",
    "\n",
    "  pass"
   ]
  },
  {
   "cell_type": "code",
   "execution_count": null,
   "metadata": {
    "id": "4Gt3uptNDy-f"
   },
   "outputs": [],
   "source": [
    "arr = np.array([[1, 2, 3],\n",
    "                [4, 5, 6],\n",
    "                [7, 8, 9]])\n",
    "\n",
    "task3_3(arr)"
   ]
  },
  {
   "cell_type": "code",
   "execution_count": null,
   "metadata": {
    "id": "QLMuGnv8EHzG"
   },
   "outputs": [],
   "source": [
    "arr = np.array([[2, 7, 6],\n",
    "                [9, 5, 1],\n",
    "                [4, 3, 8,]])\n",
    "\n",
    "task3_3(arr)"
   ]
  },
  {
   "cell_type": "code",
   "execution_count": null,
   "metadata": {
    "id": "BJ-jNcKvEl4e"
   },
   "outputs": [],
   "source": [
    "arr = np.full((3, 3), 3)\n",
    "\n",
    "task3_3(arr)"
   ]
  },
  {
   "cell_type": "markdown",
   "metadata": {
    "id": "wbs_ZkN6EuAm"
   },
   "source": []
  },
  {
   "cell_type": "markdown",
   "metadata": {
    "id": "IXXE14m-E5d_"
   },
   "source": []
  },
  {
   "cell_type": "markdown",
   "metadata": {
    "id": "yt0iK8Z2z2OZ"
   },
   "source": [
    "# Задачи повышенной сложности\n"
   ]
  },
  {
   "cell_type": "markdown",
   "metadata": {
    "id": "Joi_lIeC0DPV"
   },
   "source": [
    "Задача № 4_1(https://contest.yandex.ru/contest/43289/problems/4_1/)\n",
    "\n",
    "\n",
    "Для каждого элемента массива вычислить расстояние от него до ближайшего нуля в массиве. Ограничение по времени O(n), по памяти O(n), где n - размер массива. Гарантируется наличие хотя бы одного нуля в массиве.\n",
    "1≤n≤100000\n"
   ]
  },
  {
   "cell_type": "code",
   "execution_count": null,
   "metadata": {
    "colab": {
     "base_uri": "https://localhost:8080/",
     "height": 241
    },
    "executionInfo": {
     "elapsed": 6,
     "status": "error",
     "timestamp": 1669313239415,
     "user": {
      "displayName": "Fol4",
      "userId": "07767080146629070259"
     },
     "user_tz": -180
    },
    "id": "OzgU8PEl0A5L",
    "outputId": "90c4a8fb-f47f-4857-b323-6506d205753f"
   },
   "outputs": [],
   "source": [
    "def task4_1(arr : np.array) -> np.array:\n",
    "\n",
    "  # Your code\n",
    "\n",
    "  pass"
   ]
  },
  {
   "cell_type": "code",
   "execution_count": null,
   "metadata": {
    "id": "iRnz40ol0msm"
   },
   "outputs": [],
   "source": [
    "assert task4_1(np.array([1, 2, 0, 2, 1])) == np.array([2, 1, 0, 1, 2]), \"Неверно\"\n",
    "assert task4_1(np.array([0, 5, 0, 5, 0])) == np.array([0, 1, 0, 1, 0]), \"Невернов\""
   ]
  },
  {
   "cell_type": "markdown",
   "metadata": {
    "id": "tSuyA45l1S33"
   },
   "source": [
    "## Чтение с файла"
   ]
  },
  {
   "cell_type": "code",
   "execution_count": null,
   "metadata": {
    "executionInfo": {
     "elapsed": 487,
     "status": "ok",
     "timestamp": 1669314374714,
     "user": {
      "displayName": "Fol4",
      "userId": "07767080146629070259"
     },
     "user_tz": -180
    },
    "id": "7ENgianv4ACB"
   },
   "outputs": [],
   "source": [
    "f = open('test.txt', 'r')"
   ]
  },
  {
   "cell_type": "markdown",
   "metadata": {
    "id": "PFN00O8B1nGs"
   },
   "source": [
    "![table.png](data:image/png;base64,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)"
   ]
  },
  {
   "cell_type": "markdown",
   "metadata": {
    "id": "G2OGLbyP5S6c"
   },
   "source": [
    "Чтение с файла"
   ]
  },
  {
   "cell_type": "code",
   "execution_count": null,
   "metadata": {
    "colab": {
     "base_uri": "https://localhost:8080/",
     "height": 107
    },
    "executionInfo": {
     "elapsed": 6,
     "status": "ok",
     "timestamp": 1669314375485,
     "user": {
      "displayName": "Fol4",
      "userId": "07767080146629070259"
     },
     "user_tz": -180
    },
    "id": "TTJ0JZHa475y",
    "outputId": "4495ece1-b11e-4a64-fbe7-6a9e749db723"
   },
   "outputs": [],
   "source": [
    "f.read()"
   ]
  },
  {
   "cell_type": "code",
   "execution_count": null,
   "metadata": {
    "executionInfo": {
     "elapsed": 2,
     "status": "ok",
     "timestamp": 1669314386558,
     "user": {
      "displayName": "Fol4",
      "userId": "07767080146629070259"
     },
     "user_tz": -180
    },
    "id": "a6rysQFF4_la"
   },
   "outputs": [],
   "source": [
    "f = open('test.txt', 'r')"
   ]
  },
  {
   "cell_type": "code",
   "execution_count": null,
   "metadata": {
    "colab": {
     "base_uri": "https://localhost:8080/",
     "height": 35
    },
    "executionInfo": {
     "elapsed": 6,
     "status": "ok",
     "timestamp": 1669314388384,
     "user": {
      "displayName": "Fol4",
      "userId": "07767080146629070259"
     },
     "user_tz": -180
    },
    "id": "87rquQv51Xe6",
    "outputId": "9fc714da-67f1-4ca2-b27b-a7ca888c9142"
   },
   "outputs": [],
   "source": [
    "f.read(1)"
   ]
  },
  {
   "cell_type": "code",
   "execution_count": null,
   "metadata": {
    "colab": {
     "base_uri": "https://localhost:8080/",
     "height": 107
    },
    "executionInfo": {
     "elapsed": 6,
     "status": "ok",
     "timestamp": 1669314388871,
     "user": {
      "displayName": "Fol4",
      "userId": "07767080146629070259"
     },
     "user_tz": -180
    },
    "id": "xvhmr-Tr44_h",
    "outputId": "36b83458-56c3-4703-ea99-9e9188bf3e9a"
   },
   "outputs": [],
   "source": [
    "f.read()"
   ]
  },
  {
   "cell_type": "code",
   "execution_count": null,
   "metadata": {
    "colab": {
     "base_uri": "https://localhost:8080/"
    },
    "executionInfo": {
     "elapsed": 347,
     "status": "ok",
     "timestamp": 1669314449483,
     "user": {
      "displayName": "Fol4",
      "userId": "07767080146629070259"
     },
     "user_tz": -180
    },
    "id": "9GJxOMCj46qn",
    "outputId": "4afd10a3-07b5-421f-ac80-9d7c50f0b3cc"
   },
   "outputs": [],
   "source": [
    "f = open('test.txt')\n",
    "for line in f:\n",
    "     print(line)"
   ]
  },
  {
   "cell_type": "markdown",
   "metadata": {
    "id": "uvLagG0E5W7e"
   },
   "source": [
    "Запись в файл"
   ]
  },
  {
   "cell_type": "code",
   "execution_count": null,
   "metadata": {
    "executionInfo": {
     "elapsed": 372,
     "status": "ok",
     "timestamp": 1669314660764,
     "user": {
      "displayName": "Fol4",
      "userId": "07767080146629070259"
     },
     "user_tz": -180
    },
    "id": "m-1IqDKv5Qz_"
   },
   "outputs": [],
   "source": [
    "f = open('text.txt', 'w')"
   ]
  },
  {
   "cell_type": "code",
   "execution_count": null,
   "metadata": {
    "executionInfo": {
     "elapsed": 2,
     "status": "ok",
     "timestamp": 1669314662093,
     "user": {
      "displayName": "Fol4",
      "userId": "07767080146629070259"
     },
     "user_tz": -180
    },
    "id": "HO_feeRB5lfG"
   },
   "outputs": [],
   "source": [
    "for index in [x ** 3 for x in np.linspace(1, 4, 10)]:\n",
    "     f.write(str(index) + '\\n')"
   ]
  },
  {
   "cell_type": "code",
   "execution_count": null,
   "metadata": {
    "executionInfo": {
     "elapsed": 742,
     "status": "ok",
     "timestamp": 1669314696206,
     "user": {
      "displayName": "Fol4",
      "userId": "07767080146629070259"
     },
     "user_tz": -180
    },
    "id": "CYBuRnme50ke"
   },
   "outputs": [],
   "source": [
    "f.close()"
   ]
  },
  {
   "cell_type": "markdown",
   "metadata": {
    "id": "HB8-3ryp6OvB"
   },
   "source": [
    "Задача № 4_2(https://contest.yandex.ru/contest/43289/problems/4_2/)\n",
    "\n",
    "Проверить является ли входная скобочная последовательность правильной скобочной последовательностью. Ограничение по времени O(n), по памяти O(1)."
   ]
  },
  {
   "cell_type": "code",
   "execution_count": null,
   "metadata": {
    "executionInfo": {
     "elapsed": 346,
     "status": "ok",
     "timestamp": 1669314880316,
     "user": {
      "displayName": "Fol4",
      "userId": "07767080146629070259"
     },
     "user_tz": -180
    },
    "id": "FMxXpc-l6dfy"
   },
   "outputs": [],
   "source": [
    "def task4_2(in_path : str, out_path : str):\n",
    "\n",
    "  # Your code\n",
    "\n",
    "  pass"
   ]
  },
  {
   "cell_type": "code",
   "execution_count": null,
   "metadata": {
    "executionInfo": {
     "elapsed": 2,
     "status": "ok",
     "timestamp": 1669314880674,
     "user": {
      "displayName": "Fol4",
      "userId": "07767080146629070259"
     },
     "user_tz": -180
    },
    "id": "mX5FBoNP6sWC"
   },
   "outputs": [],
   "source": [
    "task4_2(\"input1.txt\", \"output1.txt\")\n",
    "task4_2(\"input2.txt\", \"output2.txt\")"
   ]
  },
  {
   "cell_type": "markdown",
   "metadata": {
    "id": "F92dNYZR8HI4"
   },
   "source": [
    "# Полезные материалы"
   ]
  },
  {
   "cell_type": "markdown",
   "metadata": {
    "id": "QBk_3Y7h8NUi"
   },
   "source": [
    "1. [Документация Python](https://docs.python.org/3/)\n",
    "2. [Документация Numpy](https://numpy.org/doc/stable/)\n",
    "3. [Python world](https://pythonworld.ru/)"
   ]
  }
 ],
 "metadata": {
  "colab": {
   "authorship_tag": "ABX9TyMbv50oPF5/YnCJARs+0PSD",
   "collapsed_sections": [
    "8qwoQRLCaR-q",
    "zuRHhR00pVzC",
    "Cj3J_2BJhthl",
    "yt0iK8Z2z2OZ",
    "tSuyA45l1S33",
    "F92dNYZR8HI4"
   ],
   "provenance": []
  },
  "kernelspec": {
   "display_name": "Python 3",
   "language": "python",
   "name": "python3"
  },
  "language_info": {
   "codemirror_mode": {
    "name": "ipython",
    "version": 3
   },
   "file_extension": ".py",
   "mimetype": "text/x-python",
   "name": "python",
   "nbconvert_exporter": "python",
   "pygments_lexer": "ipython3",
   "version": "3.9.0"
  }
 },
 "nbformat": 4,
 "nbformat_minor": 4
}
