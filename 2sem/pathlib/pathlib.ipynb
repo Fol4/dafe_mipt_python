{
  "nbformat": 4,
  "nbformat_minor": 0,
  "metadata": {
    "colab": {
      "provenance": [],
      "collapsed_sections": [
        "Obgaj41brk43"
      ]
    },
    "kernelspec": {
      "name": "python3",
      "display_name": "Python 3"
    },
    "language_info": {
      "name": "python"
    }
  },
  "cells": [
    {
      "cell_type": "code",
      "execution_count": 16,
      "metadata": {
        "id": "BXa2iaRRqmxI"
      },
      "outputs": [],
      "source": [
        "import pathlib"
      ]
    },
    {
      "cell_type": "markdown",
      "source": [
        "Модуль pathlib упрощает работу с путями и файлами. Позволяет создавать, изменять, удалять и переименововать файлы. Проводить различные операции с путями и получать инофрмацию о них. Проводить проверки на наличие файлов и директорий и т.д. "
      ],
      "metadata": {
        "id": "aCunz-xnAMds"
      }
    },
    {
      "cell_type": "markdown",
      "source": [
        "#Создание путей"
      ],
      "metadata": {
        "id": "phKm_pgjA-0q"
      }
    },
    {
      "cell_type": "code",
      "source": [
        "current_dir = pathlib.Path.cwd() # Возвращает путь объекта директории в которой мы сейчас находимся\n",
        "home_dir = pathlib.Path.home() # Возвращает путь объекта домашней директории\n",
        "\n",
        "print(current_dir)\n",
        "print(home_dir)"
      ],
      "metadata": {
        "colab": {
          "base_uri": "https://localhost:8080/"
        },
        "id": "klgzqfCEA5k9",
        "outputId": "efc8ba01-ad4b-41bf-d23c-0e5500191da9"
      },
      "execution_count": 17,
      "outputs": [
        {
          "output_type": "stream",
          "name": "stdout",
          "text": [
            "/content\n",
            "/root\n"
          ]
        }
      ]
    },
    {
      "cell_type": "code",
      "source": [
        "outpath = pathlib.Path.cwd() / 'output' / 'output.xlsx' # / оператор объединения частей пути в составной путь\n",
        "print(outpath)"
      ],
      "metadata": {
        "colab": {
          "base_uri": "https://localhost:8080/"
        },
        "id": "uEZo7ccQBoj5",
        "outputId": "4dce9810-cdf5-4ca3-bc59-b3f4cf74d436"
      },
      "execution_count": 18,
      "outputs": [
        {
          "output_type": "stream",
          "name": "stdout",
          "text": [
            "/content/output/output.xlsx\n"
          ]
        }
      ]
    },
    {
      "cell_type": "markdown",
      "source": [
        "Засчет перегрузки оператора / код становится понятным и читабельным."
      ],
      "metadata": {
        "id": "JEAzTAe1CLeb"
      }
    },
    {
      "cell_type": "markdown",
      "source": [
        "Пример такой же операции в другой python библиотеке."
      ],
      "metadata": {
        "id": "CJKnl2ByDKDU"
      }
    },
    {
      "cell_type": "code",
      "source": [
        "import os\n",
        "outpath_file = os.path.join(os.path.join(os.getcwd(), 'output'), \"out.xlsx\")\n",
        "print(outpath_file)"
      ],
      "metadata": {
        "colab": {
          "base_uri": "https://localhost:8080/"
        },
        "id": "PKEvnXTUDVaS",
        "outputId": "b50b2447-af4d-414e-a9df-3884b15efc55"
      },
      "execution_count": 19,
      "outputs": [
        {
          "output_type": "stream",
          "name": "stdout",
          "text": [
            "/content/output/out.xlsx\n"
          ]
        }
      ]
    },
    {
      "cell_type": "markdown",
      "source": [
        "Также важная особенность библиотеки pathlib, то что вместо представлении пути в виде обычной строки он создает отдельный объект Path, что позволяет использовать различные методы заранее прописанные в объекте Path и перегрузку оператора. "
      ],
      "metadata": {
        "id": "l3erPixxD72Y"
      }
    },
    {
      "cell_type": "code",
      "source": [
        "type(outpath)"
      ],
      "metadata": {
        "colab": {
          "base_uri": "https://localhost:8080/"
        },
        "id": "ntSYKBboCFwd",
        "outputId": "b0000ef6-3f63-43ce-db85-75b4dabab83a"
      },
      "execution_count": 20,
      "outputs": [
        {
          "output_type": "execute_result",
          "data": {
            "text/plain": [
              "pathlib.PosixPath"
            ]
          },
          "metadata": {},
          "execution_count": 20
        }
      ]
    },
    {
      "cell_type": "markdown",
      "source": [
        "Способы инициализации класса Path."
      ],
      "metadata": {
        "id": "asYszzq5JI8M"
      }
    },
    {
      "cell_type": "code",
      "source": [
        "animal = pathlib.Path('shelter', 'dog') # При помощи строк\n",
        "print(animal)\n",
        "\n",
        "animal = pathlib.Path(animal, 'doberman') # При помощи строк и объектов Path\n",
        "print(animal)\n",
        "\n",
        "animal = pathlib.Path(pathlib.Path.home(), 'animals', animal)\n",
        "print(animal)"
      ],
      "metadata": {
        "colab": {
          "base_uri": "https://localhost:8080/"
        },
        "id": "t3Nv4EhaHohO",
        "outputId": "4d1735d6-22bb-4f56-9cb4-1c486e615e34"
      },
      "execution_count": 21,
      "outputs": [
        {
          "output_type": "stream",
          "name": "stdout",
          "text": [
            "shelter/dog\n",
            "shelter/dog/doberman\n",
            "/root/animals/shelter/dog/doberman\n"
          ]
        }
      ]
    },
    {
      "cell_type": "markdown",
      "source": [],
      "metadata": {
        "id": "ATMGXHULIMoW"
      }
    },
    {
      "cell_type": "markdown",
      "source": [
        "#Параметры пути."
      ],
      "metadata": {
        "id": "OoAT5GpbEwXZ"
      }
    },
    {
      "cell_type": "code",
      "source": [
        "python_path = pathlib.Path(pathlib.Path().cwd(), 'apps', 'python.exe')\n",
        "print(python_path)\n",
        "print(python_path.name) # Возвращает имя файла\n",
        "print(python_path.suffix) # Возвращяет тип файла"
      ],
      "metadata": {
        "colab": {
          "base_uri": "https://localhost:8080/"
        },
        "id": "c1qo4D3vCX65",
        "outputId": "7a0a05cf-a867-4942-807a-5d759b5b05d9"
      },
      "execution_count": 22,
      "outputs": [
        {
          "output_type": "stream",
          "name": "stdout",
          "text": [
            "/content/apps/python.exe\n",
            "python.exe\n",
            ".exe\n"
          ]
        }
      ]
    },
    {
      "cell_type": "code",
      "source": [
        "java_path = python_path.with_name('java.exe') # Изменяет название файла\n",
        "apk_path = python_path.with_suffix('.apk') # Изменяет тип файла\n",
        "print(python_path)\n",
        "print(java_path)\n",
        "print(apk_path)"
      ],
      "metadata": {
        "colab": {
          "base_uri": "https://localhost:8080/"
        },
        "id": "iHigMrCHLghb",
        "outputId": "893095a9-5371-4cfd-bb39-855607bc0d03"
      },
      "execution_count": 23,
      "outputs": [
        {
          "output_type": "stream",
          "name": "stdout",
          "text": [
            "/content/apps/python.exe\n",
            "/content/apps/java.exe\n",
            "/content/apps/python.apk\n"
          ]
        }
      ]
    },
    {
      "cell_type": "code",
      "source": [
        "print(python_path.parent) # Возвращает родителя файла или директории (Поднимается на уровень выше)\n",
        "print(python_path.parent.parent)"
      ],
      "metadata": {
        "colab": {
          "base_uri": "https://localhost:8080/"
        },
        "id": "ARohd-8MMFKB",
        "outputId": "a420e800-e3b5-4d4e-d9bf-01b7159e6cec"
      },
      "execution_count": 24,
      "outputs": [
        {
          "output_type": "stream",
          "name": "stdout",
          "text": [
            "/content/apps\n",
            "/content\n"
          ]
        }
      ]
    },
    {
      "cell_type": "markdown",
      "source": [
        "#Работа с файлами и директориями"
      ],
      "metadata": {
        "id": "mAOFFx_Kth_h"
      }
    },
    {
      "cell_type": "code",
      "source": [
        "import zipfile\n",
        "with zipfile.ZipFile('/content/ocean.zip', 'r') as zip_ref:\n",
        "    zip_ref.extractall('/content')"
      ],
      "metadata": {
        "id": "Ydgpgj7Bz37_"
      },
      "execution_count": 25,
      "outputs": []
    },
    {
      "cell_type": "code",
      "source": [
        "for child in pathlib.Path().cwd().iterdir(): #Создает генератор, который возвращает пути всех файлов и директорий содержашихся в конкретной директории\n",
        "  print(child)"
      ],
      "metadata": {
        "colab": {
          "base_uri": "https://localhost:8080/"
        },
        "id": "9dirQ4z7tnhs",
        "outputId": "bccedb37-9c2f-493b-8c19-f3a8ff7bd5a1"
      },
      "execution_count": 26,
      "outputs": [
        {
          "output_type": "stream",
          "name": "stdout",
          "text": [
            "/content/.config\n",
            "/content/ocean\n",
            "/content/ocean.zip\n",
            "/content/sample_data\n"
          ]
        }
      ]
    },
    {
      "cell_type": "code",
      "source": [
        "print(pathlib.Path('ocean', 'tides.txt').exists()) # Проверка содержится ли файл в директории \n",
        "print(pathlib.Path('ocean', 'tide.txt').exists())"
      ],
      "metadata": {
        "colab": {
          "base_uri": "https://localhost:8080/"
        },
        "id": "zy0MikiRtqaX",
        "outputId": "2a8773cd-9d64-477a-8948-20aa7394d82b"
      },
      "execution_count": 27,
      "outputs": [
        {
          "output_type": "stream",
          "name": "stdout",
          "text": [
            "True\n",
            "False\n"
          ]
        }
      ]
    },
    {
      "cell_type": "code",
      "source": [
        "cur_path = pathlib.Path().cwd()\n",
        "new_dir = cur_path / 'ocean' / 'plants'\n",
        "new_dir.mkdir() # Создает пустую папку"
      ],
      "metadata": {
        "id": "9SUMlQZ5t-_8"
      },
      "execution_count": 28,
      "outputs": []
    },
    {
      "cell_type": "code",
      "source": [
        "new_file = new_dir / 'laminaria.txt'\n",
        "new_file.touch() # Создает пустой файл"
      ],
      "metadata": {
        "id": "xxtL_z5Gwymy"
      },
      "execution_count": 29,
      "outputs": []
    },
    {
      "cell_type": "code",
      "source": [
        "old_name = pathlib.Path().cwd() / 'ocean' / 'animal' / 'fish' / 'shark.txt'\n",
        "new_name = pathlib.Path().cwd() / 'ocean' / 'animal' / 'fish' / 'dolphin.txt'\n",
        "old_name.rename(new_name) # Меняет название файла"
      ],
      "metadata": {
        "colab": {
          "base_uri": "https://localhost:8080/"
        },
        "id": "SMdiMzTYxNej",
        "outputId": "85ee4f9b-30d4-46b9-b771-e308017b87d7"
      },
      "execution_count": 30,
      "outputs": [
        {
          "output_type": "execute_result",
          "data": {
            "text/plain": [
              "PosixPath('/content/ocean/animal/fish/dolphin.txt')"
            ]
          },
          "metadata": {},
          "execution_count": 30
        }
      ]
    },
    {
      "cell_type": "code",
      "source": [
        "trash_dir = pathlib.Path().cwd() / 'trash'\n",
        "trash_dir.mkdir()\n",
        "trash_file = trash_dir /'trash.txt'\n",
        "trash_file.touch()"
      ],
      "metadata": {
        "id": "KZ3ApCqVyqYH"
      },
      "execution_count": 31,
      "outputs": []
    },
    {
      "cell_type": "code",
      "source": [
        "trash_dir.rmdir()"
      ],
      "metadata": {
        "colab": {
          "base_uri": "https://localhost:8080/",
          "height": 294
        },
        "id": "nrbQUkcgziPI",
        "outputId": "35fb9bf7-dc60-49db-b57b-dce0b315f730"
      },
      "execution_count": 32,
      "outputs": [
        {
          "output_type": "error",
          "ename": "OSError",
          "evalue": "ignored",
          "traceback": [
            "\u001b[0;31m---------------------------------------------------------------------------\u001b[0m",
            "\u001b[0;31mOSError\u001b[0m                                   Traceback (most recent call last)",
            "\u001b[0;32m<ipython-input-32-059345ed6765>\u001b[0m in \u001b[0;36m<module>\u001b[0;34m\u001b[0m\n\u001b[0;32m----> 1\u001b[0;31m \u001b[0mtrash_dir\u001b[0m\u001b[0;34m.\u001b[0m\u001b[0mrmdir\u001b[0m\u001b[0;34m(\u001b[0m\u001b[0;34m)\u001b[0m\u001b[0;34m\u001b[0m\u001b[0;34m\u001b[0m\u001b[0m\n\u001b[0m",
            "\u001b[0;32m/usr/lib/python3.8/pathlib.py\u001b[0m in \u001b[0;36mrmdir\u001b[0;34m(self)\u001b[0m\n\u001b[1;32m   1334\u001b[0m         \u001b[0;32mif\u001b[0m \u001b[0mself\u001b[0m\u001b[0;34m.\u001b[0m\u001b[0m_closed\u001b[0m\u001b[0;34m:\u001b[0m\u001b[0;34m\u001b[0m\u001b[0;34m\u001b[0m\u001b[0m\n\u001b[1;32m   1335\u001b[0m             \u001b[0mself\u001b[0m\u001b[0;34m.\u001b[0m\u001b[0m_raise_closed\u001b[0m\u001b[0;34m(\u001b[0m\u001b[0;34m)\u001b[0m\u001b[0;34m\u001b[0m\u001b[0;34m\u001b[0m\u001b[0m\n\u001b[0;32m-> 1336\u001b[0;31m         \u001b[0mself\u001b[0m\u001b[0;34m.\u001b[0m\u001b[0m_accessor\u001b[0m\u001b[0;34m.\u001b[0m\u001b[0mrmdir\u001b[0m\u001b[0;34m(\u001b[0m\u001b[0mself\u001b[0m\u001b[0;34m)\u001b[0m\u001b[0;34m\u001b[0m\u001b[0;34m\u001b[0m\u001b[0m\n\u001b[0m\u001b[1;32m   1337\u001b[0m \u001b[0;34m\u001b[0m\u001b[0m\n\u001b[1;32m   1338\u001b[0m     \u001b[0;32mdef\u001b[0m \u001b[0mlstat\u001b[0m\u001b[0;34m(\u001b[0m\u001b[0mself\u001b[0m\u001b[0;34m)\u001b[0m\u001b[0;34m:\u001b[0m\u001b[0;34m\u001b[0m\u001b[0;34m\u001b[0m\u001b[0m\n",
            "\u001b[0;31mOSError\u001b[0m: [Errno 39] Directory not empty: '/content/trash'"
          ]
        }
      ]
    },
    {
      "cell_type": "code",
      "source": [
        "trash_file.unlink()"
      ],
      "metadata": {
        "id": "qonZDZHFzqqg"
      },
      "execution_count": 33,
      "outputs": []
    },
    {
      "cell_type": "code",
      "source": [
        "trash_dir.rmdir()"
      ],
      "metadata": {
        "id": "OOvNs3A8zxSf"
      },
      "execution_count": 34,
      "outputs": []
    },
    {
      "cell_type": "code",
      "source": [
        "import shutil"
      ],
      "metadata": {
        "id": "PcEslID5AToP"
      },
      "execution_count": 35,
      "outputs": []
    },
    {
      "cell_type": "code",
      "source": [
        "shutil.copy(pathlib.Path('ocean', 'plants', 'laminaria.txt'), pathlib.Path('ocean'))"
      ],
      "metadata": {
        "colab": {
          "base_uri": "https://localhost:8080/",
          "height": 35
        },
        "id": "Ts3afD0_Auyc",
        "outputId": "48bc52fa-9f4c-4d00-de93-2e2de00e8701"
      },
      "execution_count": 36,
      "outputs": [
        {
          "output_type": "execute_result",
          "data": {
            "text/plain": [
              "'ocean/laminaria.txt'"
            ],
            "application/vnd.google.colaboratory.intrinsic+json": {
              "type": "string"
            }
          },
          "metadata": {},
          "execution_count": 36
        }
      ]
    },
    {
      "cell_type": "markdown",
      "source": [
        "#Методы glob и rglob"
      ],
      "metadata": {
        "id": "Obgaj41brk43"
      }
    },
    {
      "cell_type": "code",
      "source": [
        "for txt_path in pathlib.Path(\"ocean\").glob(\"*.txt\"):\n",
        "    print(txt_path)"
      ],
      "metadata": {
        "id": "c6XmXmbejqic",
        "colab": {
          "base_uri": "https://localhost:8080/"
        },
        "outputId": "7a558ea3-6638-451e-d02f-5dbd130a44b1"
      },
      "execution_count": null,
      "outputs": [
        {
          "output_type": "stream",
          "name": "stdout",
          "text": [
            "ocean/tides.txt\n",
            "ocean/wave.txt\n"
          ]
        }
      ]
    },
    {
      "cell_type": "code",
      "source": [
        "for txt_path in pathlib.Path(\"ocean\").glob(\"**/*.txt\"):\n",
        "    print(txt_path)"
      ],
      "metadata": {
        "colab": {
          "base_uri": "https://localhost:8080/"
        },
        "id": "oavskwTgsk_N",
        "outputId": "a8a6c0c7-a3a7-4529-9beb-b30fc9985ec5"
      },
      "execution_count": null,
      "outputs": [
        {
          "output_type": "stream",
          "name": "stdout",
          "text": [
            "ocean/tides.txt\n",
            "ocean/wave.txt\n",
            "ocean/animal/fish/dolphin.txt\n",
            "ocean/plants/laminaria.txt\n"
          ]
        }
      ]
    },
    {
      "cell_type": "code",
      "source": [
        "for txt_path in pathlib.Path(\"ocean\").rglob(\"*.txt\"):\n",
        "    print(txt_path)"
      ],
      "metadata": {
        "colab": {
          "base_uri": "https://localhost:8080/"
        },
        "id": "Ce03oAhm0T2V",
        "outputId": "5ac06728-6407-4b95-87f9-30f7564e4d88"
      },
      "execution_count": null,
      "outputs": [
        {
          "output_type": "stream",
          "name": "stdout",
          "text": [
            "ocean/tides.txt\n",
            "ocean/wave.txt\n",
            "ocean/animal/fish/dolphin.txt\n",
            "ocean/plants/laminaria.txt\n"
          ]
        }
      ]
    },
    {
      "cell_type": "markdown",
      "source": [
        "#Задачи"
      ],
      "metadata": {
        "id": "nea1iAwy06K3"
      }
    },
    {
      "cell_type": "markdown",
      "source": [
        "1.Рассортировать все файлы по типу.\n",
        "\n",
        "2.Удалить папку и все элементы содержащиеся в ней.\n",
        "\n",
        "3.Произвести копирование папки.\n"
      ],
      "metadata": {
        "id": "UDnrKdLK1Ht3"
      }
    },
    {
      "cell_type": "code",
      "source": [],
      "metadata": {
        "id": "9gYKlMLm-1pW"
      },
      "execution_count": null,
      "outputs": []
    }
  ]
}