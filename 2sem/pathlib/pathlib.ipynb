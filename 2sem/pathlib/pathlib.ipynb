{
 "cells": [
  {
   "cell_type": "code",
   "execution_count": null,
   "metadata": {
    "id": "BXa2iaRRqmxI"
   },
   "outputs": [],
   "source": [
    "import pathlib"
   ]
  },
  {
   "cell_type": "markdown",
   "metadata": {
    "id": "aCunz-xnAMds"
   },
   "source": [
    "Модуль pathlib упрощает работу с путями и файлами. Позволяет создавать, изменять, удалять и переименововать файлы. Проводить различные операции с путями и получать инофрмацию о них. Проводить проверки на наличие файлов и директорий и т.д. "
   ]
  },
  {
   "cell_type": "markdown",
   "metadata": {
    "id": "phKm_pgjA-0q"
   },
   "source": [
    "#Создание путей"
   ]
  },
  {
   "cell_type": "code",
   "execution_count": null,
   "metadata": {
    "colab": {
     "base_uri": "https://localhost:8080/"
    },
    "id": "klgzqfCEA5k9",
    "outputId": "979e8da7-9fc7-4ce4-c075-715e34679095"
   },
   "outputs": [],
   "source": [
    "current_dir = pathlib.Path.cwd() # Возвращает путь объекта директории в которой мы сейчас находимся\n",
    "home_dir = pathlib.Path.home() # Возвращает путь объекта домашней директории\n",
    "\n",
    "print(current_dir)\n",
    "print(home_dir)"
   ]
  },
  {
   "cell_type": "code",
   "execution_count": null,
   "metadata": {
    "colab": {
     "base_uri": "https://localhost:8080/"
    },
    "id": "uEZo7ccQBoj5",
    "outputId": "0cc75bdb-2e9c-4081-8b5d-66691a675a41"
   },
   "outputs": [],
   "source": [
    "outpath = pathlib.Path.cwd() / 'output' / 'output.xlsx' # / оператор объединения частей пути в составной путь\n",
    "print(outpath)"
   ]
  },
  {
   "cell_type": "markdown",
   "metadata": {
    "id": "JEAzTAe1CLeb"
   },
   "source": [
    "Засчет перегрузки оператора / код становится понятным и читабельным."
   ]
  },
  {
   "cell_type": "markdown",
   "metadata": {
    "id": "CJKnl2ByDKDU"
   },
   "source": [
    "Пример такой же операции в другой python библиотеке."
   ]
  },
  {
   "cell_type": "code",
   "execution_count": null,
   "metadata": {
    "colab": {
     "base_uri": "https://localhost:8080/"
    },
    "id": "PKEvnXTUDVaS",
    "outputId": "4f965216-3c36-4e07-a600-d8400e34598b"
   },
   "outputs": [],
   "source": [
    "import os\n",
    "outpath_file = os.path.join(os.path.join(os.getcwd(), 'output'), \"out.xlsx\")\n",
    "print(outpath_file)"
   ]
  },
  {
   "cell_type": "markdown",
   "metadata": {
    "id": "l3erPixxD72Y"
   },
   "source": [
    "Также важная особенность библиотеки pathlib, то что вместо представлении пути в виде обычной строки он создает отдельный объект Path, что позволяет использовать различные методы заранее прописанные в объекте Path и перегрузку оператора. "
   ]
  },
  {
   "cell_type": "code",
   "execution_count": null,
   "metadata": {
    "colab": {
     "base_uri": "https://localhost:8080/"
    },
    "id": "ntSYKBboCFwd",
    "outputId": "2e21c284-5e0f-427e-dfd3-4020b67a6fdb"
   },
   "outputs": [],
   "source": [
    "type(outpath)"
   ]
  },
  {
   "cell_type": "markdown",
   "metadata": {
    "id": "asYszzq5JI8M"
   },
   "source": [
    "Способы инициализации класса Path."
   ]
  },
  {
   "cell_type": "code",
   "execution_count": null,
   "metadata": {
    "colab": {
     "base_uri": "https://localhost:8080/"
    },
    "id": "t3Nv4EhaHohO",
    "outputId": "ecb6a3c1-af41-49ed-a91c-a943b163df9c"
   },
   "outputs": [],
   "source": [
    "animal = pathlib.Path('shelter', 'dog') # При помощи строк\n",
    "print(animal)\n",
    "\n",
    "animal = pathlib.Path(animal, 'doberman') # При помощи строк и объектов Path\n",
    "print(animal)\n",
    "\n",
    "animal = pathlib.Path(pathlib.Path.home(), 'animals', animal)\n",
    "print(animal)"
   ]
  },
  {
   "cell_type": "markdown",
   "metadata": {
    "id": "ATMGXHULIMoW"
   },
   "source": []
  },
  {
   "cell_type": "markdown",
   "metadata": {
    "id": "OoAT5GpbEwXZ"
   },
   "source": [
    "#Параметры пути."
   ]
  },
  {
   "cell_type": "code",
   "execution_count": null,
   "metadata": {
    "colab": {
     "base_uri": "https://localhost:8080/"
    },
    "id": "c1qo4D3vCX65",
    "outputId": "33dc013a-fc23-4a74-b8f8-5fbd9c0e9c11"
   },
   "outputs": [],
   "source": [
    "python_path = pathlib.Path(pathlib.Path().cwd(), 'apps', 'python.exe')\n",
    "print(python_path)\n",
    "print(python_path.name) # Возвращает имя файла\n",
    "print(python_path.suffix) # Возвращяет тип файла"
   ]
  },
  {
   "cell_type": "code",
   "execution_count": null,
   "metadata": {
    "colab": {
     "base_uri": "https://localhost:8080/"
    },
    "id": "iHigMrCHLghb",
    "outputId": "5baf319d-db0e-4268-9afe-c9cbe7892606"
   },
   "outputs": [],
   "source": [
    "java_path = python_path.with_name('java.exe') # Изменяет название файла\n",
    "apk_path = python_path.with_suffix('.apk') # Изменяет тип файла\n",
    "print(python_path)\n",
    "print(java_path)\n",
    "print(apk_path)"
   ]
  },
  {
   "cell_type": "code",
   "execution_count": null,
   "metadata": {
    "colab": {
     "base_uri": "https://localhost:8080/"
    },
    "id": "ARohd-8MMFKB",
    "outputId": "010f2fb9-95da-4914-ac35-46e555aede2c"
   },
   "outputs": [],
   "source": [
    "print(python_path.parent) # Возвращает родителя файла или директории (Поднимается на уровень выше)\n",
    "print(python_path.parent.parent)"
   ]
  },
  {
   "cell_type": "markdown",
   "metadata": {
    "id": "mAOFFx_Kth_h"
   },
   "source": [
    "#Работа с файлами и директориями"
   ]
  },
  {
   "cell_type": "code",
   "execution_count": null,
   "metadata": {
    "id": "Ydgpgj7Bz37_"
   },
   "outputs": [],
   "source": [
    "import zipfile\n",
    "with zipfile.ZipFile('/content/ocean.zip', 'r') as zip_ref:\n",
    "    zip_ref.extractall('/content')"
   ]
  },
  {
   "cell_type": "code",
   "execution_count": null,
   "metadata": {
    "colab": {
     "base_uri": "https://localhost:8080/"
    },
    "id": "9dirQ4z7tnhs",
    "outputId": "caadb9cb-9182-4155-c23c-83663bb0715a"
   },
   "outputs": [],
   "source": [
    "for child in pathlib.Path().cwd().iterdir(): #Создает генератор, который возвращает пути всех файлов и директорий содержашихся в конкретной директории\n",
    "  print(child)"
   ]
  },
  {
   "cell_type": "code",
   "execution_count": null,
   "metadata": {
    "colab": {
     "base_uri": "https://localhost:8080/"
    },
    "id": "zy0MikiRtqaX",
    "outputId": "d08f6836-3e0c-4f6a-a559-b41628c384c0"
   },
   "outputs": [],
   "source": [
    "print(pathlib.Path('ocean', 'tides.txt').exists()) # Проверка содержится ли файл в директории \n",
    "print(pathlib.Path('ocean', 'tide.txt').exists())"
   ]
  },
  {
   "cell_type": "code",
   "execution_count": null,
   "metadata": {
    "id": "9SUMlQZ5t-_8"
   },
   "outputs": [],
   "source": [
    "cur_path = pathlib.Path().cwd()\n",
    "new_dir = cur_path / 'ocean' / 'plants'\n",
    "new_dir.mkdir() # Создает пустую папку"
   ]
  },
  {
   "cell_type": "code",
   "execution_count": null,
   "metadata": {
    "id": "xxtL_z5Gwymy"
   },
   "outputs": [],
   "source": [
    "new_file = new_dir / 'laminaria.txt'\n",
    "new_file.touch() # Создает пустой файл"
   ]
  },
  {
   "cell_type": "code",
   "execution_count": null,
   "metadata": {
    "colab": {
     "base_uri": "https://localhost:8080/"
    },
    "id": "SMdiMzTYxNej",
    "outputId": "cb43e41c-e427-400a-ed97-cdde5fd9d1dc"
   },
   "outputs": [],
   "source": [
    "old_name = pathlib.Path().cwd() / 'ocean' / 'animal' / 'fish' / 'shark.txt'\n",
    "new_name = pathlib.Path().cwd() / 'ocean' / 'animal' / 'fish' / 'dolphin.txt'\n",
    "old_name.rename(new_name) # Меняет название файла"
   ]
  },
  {
   "cell_type": "code",
   "execution_count": null,
   "metadata": {
    "id": "KZ3ApCqVyqYH"
   },
   "outputs": [],
   "source": [
    "trash_dir = pathlib.Path().cwd() / 'trash'\n",
    "trash_dir.mkdir()\n",
    "trash_file = trash_dir /'trash.txt'\n",
    "trash_file.touch()"
   ]
  },
  {
   "cell_type": "code",
   "execution_count": null,
   "metadata": {
    "colab": {
     "base_uri": "https://localhost:8080/",
     "height": 294
    },
    "id": "nrbQUkcgziPI",
    "outputId": "648c44c6-f22f-4af6-f407-b99c08d7404a"
   },
   "outputs": [],
   "source": [
    "trash_dir.rmdir()"
   ]
  },
  {
   "cell_type": "code",
   "execution_count": null,
   "metadata": {
    "id": "qonZDZHFzqqg"
   },
   "outputs": [],
   "source": [
    "trash_file.unlink()"
   ]
  },
  {
   "cell_type": "code",
   "execution_count": null,
   "metadata": {
    "id": "OOvNs3A8zxSf"
   },
   "outputs": [],
   "source": [
    "trash_dir.rmdir()"
   ]
  },
  {
   "cell_type": "markdown",
   "metadata": {
    "id": "Obgaj41brk43"
   },
   "source": [
    "#Методы glob и rglob"
   ]
  },
  {
   "cell_type": "code",
   "execution_count": null,
   "metadata": {
    "colab": {
     "base_uri": "https://localhost:8080/"
    },
    "id": "c6XmXmbejqic",
    "outputId": "7a558ea3-6638-451e-d02f-5dbd130a44b1"
   },
   "outputs": [],
   "source": [
    "for txt_path in pathlib.Path(\"ocean\").glob(\"*.txt\"):\n",
    "    print(txt_path)"
   ]
  },
  {
   "cell_type": "code",
   "execution_count": null,
   "metadata": {
    "colab": {
     "base_uri": "https://localhost:8080/"
    },
    "id": "oavskwTgsk_N",
    "outputId": "a8a6c0c7-a3a7-4529-9beb-b30fc9985ec5"
   },
   "outputs": [],
   "source": [
    "for txt_path in pathlib.Path(\"ocean\").glob(\"**/*.txt\"):\n",
    "    print(txt_path)"
   ]
  },
  {
   "cell_type": "code",
   "execution_count": null,
   "metadata": {
    "colab": {
     "base_uri": "https://localhost:8080/"
    },
    "id": "Ce03oAhm0T2V",
    "outputId": "5ac06728-6407-4b95-87f9-30f7564e4d88"
   },
   "outputs": [],
   "source": [
    "for txt_path in pathlib.Path(\"ocean\").rglob(\"*.txt\"):\n",
    "    print(txt_path)"
   ]
  },
  {
   "cell_type": "markdown",
   "metadata": {
    "id": "nea1iAwy06K3"
   },
   "source": [
    "#Задачи"
   ]
  },
  {
   "cell_type": "markdown",
   "metadata": {
    "id": "UDnrKdLK1Ht3"
   },
   "source": [
    "1.Рассортировать все файлы по типу файла.\n",
    "\n",
    "2.Удалить папку и все элементы содержащиеся в ней.\n",
    "\n",
    "3.Произвести копирование папки.\n"
   ]
  }
 ],
 "metadata": {
  "colab": {
   "collapsed_sections": [
    "phKm_pgjA-0q",
    "OoAT5GpbEwXZ",
    "mAOFFx_Kth_h",
    "Obgaj41brk43"
   ],
   "provenance": []
  },
  "kernelspec": {
   "display_name": "Python 3 (ipykernel)",
   "language": "python",
   "name": "python3"
  },
  "language_info": {
   "codemirror_mode": {
    "name": "ipython",
    "version": 3
   },
   "file_extension": ".py",
   "mimetype": "text/x-python",
   "name": "python",
   "nbconvert_exporter": "python",
   "pygments_lexer": "ipython3",
   "version": "3.11.1"
  }
 },
 "nbformat": 4,
 "nbformat_minor": 4
}
