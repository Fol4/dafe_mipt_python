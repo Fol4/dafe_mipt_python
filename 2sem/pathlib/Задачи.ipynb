{
  "nbformat": 4,
  "nbformat_minor": 0,
  "metadata": {
    "colab": {
      "provenance": []
    },
    "kernelspec": {
      "name": "python3",
      "display_name": "Python 3"
    },
    "language_info": {
      "name": "python"
    }
  },
  "cells": [
    {
      "cell_type": "markdown",
      "source": [
        "Задача №1"
      ],
      "metadata": {
        "id": "ahffbLWAh7BZ"
      }
    },
    {
      "cell_type": "code",
      "source": [
        "outpath = pathlib.Path.cwd() / 'tasks' / 'task1' / 'all'\n",
        "for child in outpath.iterdir(): #Создает генератор, который возвращает пути всех файлов и директорий содержашихся в конкретной директории\n",
        "  if child.suffix == '.docx' or child.suffix == '.doc' or child.suffix == '.txt':\n",
        "    shutil.copy(pathlib.Path(child), pathlib.Path('tasks', 'task1', 'texts(txt, doc, docx)'))\n",
        "    pathlib.Path(child).unlink()\n",
        "  if child.suffix == '.png' or child.suffix == '.jpeg':\n",
        "    shutil.copy(pathlib.Path(child), pathlib.Path('tasks', 'task1', 'images(png, jpeg)'))\n",
        "    pathlib.Path(child).unlink()\n",
        "  if child.suffix == '.xls' or child.suffix == '.xlsx' or child.suffix == '.csv':\n",
        "    shutil.copy(pathlib.Path(child), pathlib.Path('tasks', 'task1', 'sheets(xls, xlsx, csv)'))\n",
        "    pathlib.Path(child).unlink()"
      ],
      "metadata": {
        "id": "qHGjpn2xh_H9"
      },
      "execution_count": null,
      "outputs": []
    },
    {
      "cell_type": "markdown",
      "source": [
        "Задача №2"
      ],
      "metadata": {
        "id": "065i9vgTaKLy"
      }
    },
    {
      "cell_type": "code",
      "source": [
        "def f(path):\n",
        "  cur = [p for p in path.iterdir()]\n",
        "  if len(cur) == 0:\n",
        "    path.rmdir()\n",
        "    return 1\n",
        "  for p in cur:\n",
        "    if p.is_file():\n",
        "      p.unlink()\n",
        "    if p.is_dir():\n",
        "      f(p)\n",
        "\n",
        "  f(path)\n",
        "\n",
        "def recursion(path):\n",
        "    for txt_path in path:\n",
        "        recursion(txt_path.rglob(\"*\"))\n",
        "        if txt_path.is_dir():\n",
        "            txt_path.rmdir()\n",
        "        else:\n",
        "            txt_path.unlink()"
      ],
      "metadata": {
        "id": "88dRL8Q7g1hD"
      },
      "execution_count": null,
      "outputs": []
    },
    {
      "cell_type": "code",
      "source": [
        "#Первое рещение\n",
        "path = pathlib.Path.cwd() / 'tasks' / 'task2'\n",
        "f(path)"
      ],
      "metadata": {
        "id": "E8MX2DVCaevr"
      },
      "execution_count": null,
      "outputs": []
    },
    {
      "cell_type": "code",
      "source": [
        "#Второе решение\n",
        "path = pathlib.Path.cwd() / 'tasks' / 'task2'\n",
        "recursion(path.rglob(\"*\"))\n",
        "[p for p in path.rglob(\"*\")]"
      ],
      "metadata": {
        "id": "40syDGxsbnoZ",
        "colab": {
          "base_uri": "https://localhost:8080/"
        },
        "outputId": "8b4b758e-4a0e-4e00-db4f-e2d0378de506"
      },
      "execution_count": null,
      "outputs": [
        {
          "output_type": "execute_result",
          "data": {
            "text/plain": [
              "[]"
            ]
          },
          "metadata": {},
          "execution_count": 98
        }
      ]
    }
  ]
}